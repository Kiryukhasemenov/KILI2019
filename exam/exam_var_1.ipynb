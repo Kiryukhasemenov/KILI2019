{
  "nbformat": 4,
  "nbformat_minor": 0,
  "metadata": {
    "kernelspec": {
      "name": "python3",
      "display_name": "Python 3"
    },
    "language_info": {
      "codemirror_mode": {
        "name": "ipython",
        "version": 3
      },
      "file_extension": ".py",
      "mimetype": "text/x-python",
      "name": "python",
      "nbconvert_exporter": "python",
      "pygments_lexer": "ipython3",
      "version": "3.6.8"
    },
    "colab": {
      "name": "exam_var_1.ipynb",
      "provenance": [],
      "collapsed_sections": [],
      "toc_visible": true
    },
    "accelerator": "GPU"
  },
  "cells": [
    {
      "cell_type": "markdown",
      "metadata": {
        "id": "h4ZPpzO03oJM",
        "colab_type": "text"
      },
      "source": [
        "# Exam\n",
        "\n",
        "Develop a model for predicting review rating.  \n",
        "**Multiclass classification into 5 classes**  \n",
        "Score: **F1 with macro averaging**  \n",
        "You are forbidden to use test dataset for any kind of training.  \n",
        "Remember proper training pipeline.  \n",
        "If you are not using default params in the models, you have to use some validation scheme to justify them. \n",
        "\n",
        "Use `random_state` or `seed` params - your experiment must be reprodusible.\n",
        "\n",
        "\n",
        "### 1 baseline = 0.51\n",
        "### 2 baseline = 0.53\n"
      ]
    },
    {
      "cell_type": "code",
      "metadata": {
        "id": "jAufMldNU-4u",
        "colab_type": "code",
        "colab": {}
      },
      "source": [
        "SEED = 42"
      ],
      "execution_count": 0,
      "outputs": []
    },
    {
      "cell_type": "code",
      "metadata": {
        "id": "YRxWbrZG30vA",
        "colab_type": "code",
        "outputId": "cdecb0d5-2dee-4d0f-965e-808623ec6415",
        "colab": {
          "base_uri": "https://localhost:8080/",
          "height": 55
        }
      },
      "source": [
        "from google.colab import drive\n",
        "drive.mount('/content/drive')"
      ],
      "execution_count": 2,
      "outputs": [
        {
          "output_type": "stream",
          "text": [
            "Drive already mounted at /content/drive; to attempt to forcibly remount, call drive.mount(\"/content/drive\", force_remount=True).\n"
          ],
          "name": "stdout"
        }
      ]
    },
    {
      "cell_type": "code",
      "metadata": {
        "id": "C2gkXQMS4AR7",
        "colab_type": "code",
        "colab": {}
      },
      "source": [
        "!wget https://github.com/thedenaas/hse_seminars/blob/master/2019/exam/exam_data.zip\n",
        "!unzip '/content/exam_data.zip'"
      ],
      "execution_count": 0,
      "outputs": []
    },
    {
      "cell_type": "code",
      "metadata": {
        "id": "OpEPT9cG3oJQ",
        "colab_type": "code",
        "colab": {}
      },
      "source": [
        "import pandas as pd"
      ],
      "execution_count": 0,
      "outputs": []
    },
    {
      "cell_type": "code",
      "metadata": {
        "id": "7_HtIoHK3oJV",
        "colab_type": "code",
        "outputId": "cd36c729-b2ea-491f-86fd-61780a41fd96",
        "colab": {
          "base_uri": "https://localhost:8080/",
          "height": 35
        }
      },
      "source": [
        "df_train = pd.read_csv('train.csv')\n",
        "df_test = pd.read_csv('test.csv')\n",
        "df_train.shape"
      ],
      "execution_count": 44,
      "outputs": [
        {
          "output_type": "execute_result",
          "data": {
            "text/plain": [
              "(48192, 3)"
            ]
          },
          "metadata": {
            "tags": []
          },
          "execution_count": 44
        }
      ]
    },
    {
      "cell_type": "code",
      "metadata": {
        "id": "C-0XqYvxC2gv",
        "colab_type": "code",
        "colab": {
          "base_uri": "https://localhost:8080/",
          "height": 198
        },
        "outputId": "bd4acd6d-7f64-411b-ee1c-8de1cae13f29"
      },
      "source": [
        "df_train.head()"
      ],
      "execution_count": 45,
      "outputs": [
        {
          "output_type": "execute_result",
          "data": {
            "text/html": [
              "<div>\n",
              "<style scoped>\n",
              "    .dataframe tbody tr th:only-of-type {\n",
              "        vertical-align: middle;\n",
              "    }\n",
              "\n",
              "    .dataframe tbody tr th {\n",
              "        vertical-align: top;\n",
              "    }\n",
              "\n",
              "    .dataframe thead th {\n",
              "        text-align: right;\n",
              "    }\n",
              "</style>\n",
              "<table border=\"1\" class=\"dataframe\">\n",
              "  <thead>\n",
              "    <tr style=\"text-align: right;\">\n",
              "      <th></th>\n",
              "      <th>review</th>\n",
              "      <th>title</th>\n",
              "      <th>target</th>\n",
              "    </tr>\n",
              "  </thead>\n",
              "  <tbody>\n",
              "    <tr>\n",
              "      <th>0</th>\n",
              "      <td>The staff was very friendly, the breakfast ver...</td>\n",
              "      <td>Walker Gem</td>\n",
              "      <td>5</td>\n",
              "    </tr>\n",
              "    <tr>\n",
              "      <th>1</th>\n",
              "      <td>Excellent service - very approachable and prof...</td>\n",
              "      <td>Excellent Service</td>\n",
              "      <td>4</td>\n",
              "    </tr>\n",
              "    <tr>\n",
              "      <th>2</th>\n",
              "      <td>Really a top notch place to spend a day at the...</td>\n",
              "      <td>Good location, warm and friendly staff</td>\n",
              "      <td>5</td>\n",
              "    </tr>\n",
              "    <tr>\n",
              "      <th>3</th>\n",
              "      <td>a little noisy, there was a false fire alarm a...</td>\n",
              "      <td>nice hotel,</td>\n",
              "      <td>4</td>\n",
              "    </tr>\n",
              "    <tr>\n",
              "      <th>4</th>\n",
              "      <td>Place had too many animals and I'm allergic to...</td>\n",
              "      <td>Experience</td>\n",
              "      <td>3</td>\n",
              "    </tr>\n",
              "  </tbody>\n",
              "</table>\n",
              "</div>"
            ],
            "text/plain": [
              "                                              review  ... target\n",
              "0  The staff was very friendly, the breakfast ver...  ...      5\n",
              "1  Excellent service - very approachable and prof...  ...      4\n",
              "2  Really a top notch place to spend a day at the...  ...      5\n",
              "3  a little noisy, there was a false fire alarm a...  ...      4\n",
              "4  Place had too many animals and I'm allergic to...  ...      3\n",
              "\n",
              "[5 rows x 3 columns]"
            ]
          },
          "metadata": {
            "tags": []
          },
          "execution_count": 45
        }
      ]
    },
    {
      "cell_type": "code",
      "metadata": {
        "id": "WnZXfRbDD5yb",
        "colab_type": "code",
        "colab": {
          "base_uri": "https://localhost:8080/",
          "height": 72
        },
        "outputId": "2bcf36aa-87b5-491e-e971-15cae7218fba"
      },
      "source": [
        "import nltk\n",
        "nltk.download('stopwords')"
      ],
      "execution_count": 6,
      "outputs": [
        {
          "output_type": "stream",
          "text": [
            "[nltk_data] Downloading package stopwords to /root/nltk_data...\n",
            "[nltk_data]   Package stopwords is already up-to-date!\n"
          ],
          "name": "stdout"
        },
        {
          "output_type": "execute_result",
          "data": {
            "text/plain": [
              "True"
            ]
          },
          "metadata": {
            "tags": []
          },
          "execution_count": 6
        }
      ]
    },
    {
      "cell_type": "code",
      "metadata": {
        "id": "SGR841g7HCKf",
        "colab_type": "code",
        "colab": {
          "base_uri": "https://localhost:8080/",
          "height": 72
        },
        "outputId": "edcf0d71-89a3-4dc8-ef03-4274e74ddb2c"
      },
      "source": [
        "nltk.download('punkt')"
      ],
      "execution_count": 7,
      "outputs": [
        {
          "output_type": "stream",
          "text": [
            "[nltk_data] Downloading package punkt to /root/nltk_data...\n",
            "[nltk_data]   Package punkt is already up-to-date!\n"
          ],
          "name": "stdout"
        },
        {
          "output_type": "execute_result",
          "data": {
            "text/plain": [
              "True"
            ]
          },
          "metadata": {
            "tags": []
          },
          "execution_count": 7
        }
      ]
    },
    {
      "cell_type": "code",
      "metadata": {
        "id": "tEBB9mghDNyM",
        "colab_type": "code",
        "colab": {}
      },
      "source": [
        "import nltk\n",
        "from nltk.corpus import stopwords\n",
        "#set(stopwords.words('english'))"
      ],
      "execution_count": 0,
      "outputs": []
    },
    {
      "cell_type": "code",
      "metadata": {
        "id": "ZzypcNAKGtu0",
        "colab_type": "code",
        "colab": {}
      },
      "source": [
        "stopwords = set(stopwords.words('english'))"
      ],
      "execution_count": 0,
      "outputs": []
    },
    {
      "cell_type": "code",
      "metadata": {
        "id": "aeLANlTeD1ff",
        "colab_type": "code",
        "colab": {}
      },
      "source": [
        "from nltk.tokenize import word_tokenize"
      ],
      "execution_count": 0,
      "outputs": []
    },
    {
      "cell_type": "code",
      "metadata": {
        "id": "xjBQq3ePK7mi",
        "colab_type": "code",
        "colab": {}
      },
      "source": [
        "def tokenizer(sent, no_stopwords=True):\n",
        "  sent = word_tokenize(sent)\n",
        "  if no_stopwords:\n",
        "    sent_list = []\n",
        "    for w in sent:\n",
        "      if w not in stopwords:\n",
        "        sent_list.append(w)\n",
        "  else:\n",
        "    sent_list = sent\n",
        "  return sent_list"
      ],
      "execution_count": 0,
      "outputs": []
    },
    {
      "cell_type": "code",
      "metadata": {
        "id": "hFPLfFxlMWJ5",
        "colab_type": "code",
        "colab": {}
      },
      "source": [
        "df_train['review_list'] = df_train['review'].apply(lambda x: tokenizer(x))\n",
        "df_train['title_list'] = df_train['title'].apply(lambda x: tokenizer(x))"
      ],
      "execution_count": 0,
      "outputs": []
    },
    {
      "cell_type": "code",
      "metadata": {
        "id": "b5xEwP41cFnE",
        "colab_type": "code",
        "colab": {}
      },
      "source": [
        "df_test['review_list'] = df_test['review'].apply(lambda x: tokenizer(x))\n",
        "df_test['title_list'] = df_test['title'].apply(lambda x: tokenizer(x))"
      ],
      "execution_count": 0,
      "outputs": []
    },
    {
      "cell_type": "code",
      "metadata": {
        "id": "uikbAsCbM1nO",
        "colab_type": "code",
        "colab": {}
      },
      "source": [
        "def make_dict(*cols):\n",
        "  global word_dict, index_dict\n",
        "  word_dict, index_dict = {}, {}\n",
        "  word_dict['UNK'] = 0\n",
        "  index_dict['0'] = 'UNK'\n",
        "  i = 1\n",
        "  for col in cols:\n",
        "    for sent in col:\n",
        "      for word in sent:\n",
        "        if word not in word_dict.keys():\n",
        "          word_dict[word] = i\n",
        "          index_dict[i] = word\n",
        "          i += 1\n",
        "  return word_dict, index_dict\n",
        "\n",
        "make_dict(df_train['review_list'], df_train['title_list'])"
      ],
      "execution_count": 0,
      "outputs": []
    },
    {
      "cell_type": "code",
      "metadata": {
        "id": "vt-exnQsOCHE",
        "colab_type": "code",
        "colab": {}
      },
      "source": [
        "def make_num_sentence(sent, word_dict):\n",
        "  num_sent = []\n",
        "  for word in sent:\n",
        "    num_sent.append(word_dict[word])\n",
        "  return num_sent"
      ],
      "execution_count": 0,
      "outputs": []
    },
    {
      "cell_type": "code",
      "metadata": {
        "id": "dkH44aM6OopV",
        "colab_type": "code",
        "colab": {}
      },
      "source": [
        "df_train['review_nums'] = df_train['review_list'].apply(lambda x: make_num_sentence(x, word_dict))\n",
        "df_train['title_nums'] = df_train['title_list'].apply(lambda x: make_num_sentence(x, word_dict))\n",
        "\n"
      ],
      "execution_count": 0,
      "outputs": []
    },
    {
      "cell_type": "code",
      "metadata": {
        "id": "ORxVg5ccgsYh",
        "colab_type": "code",
        "colab": {}
      },
      "source": [
        "df_test['review_length'] = df_test['review_list'].apply(lambda x: len(x))\n",
        "df_test['title_length'] = df_test['title_list'].apply(lambda x: len(x))"
      ],
      "execution_count": 0,
      "outputs": []
    },
    {
      "cell_type": "code",
      "metadata": {
        "id": "jZce1iyqSGi-",
        "colab_type": "code",
        "colab": {
          "base_uri": "https://localhost:8080/",
          "height": 74
        },
        "outputId": "15d1c438-e9c8-4af8-bb1a-0232d5171624"
      },
      "source": [
        "from gensim.models.keyedvectors import KeyedVectors\n",
        "\n",
        "import gensim.downloader as api\n",
        "word_vectors = api.load(\"glove-wiki-gigaword-100\")"
      ],
      "execution_count": 49,
      "outputs": [
        {
          "output_type": "stream",
          "text": [
            "/usr/local/lib/python3.6/dist-packages/smart_open/smart_open_lib.py:410: UserWarning: This function is deprecated, use smart_open.open instead. See the migration notes for details: https://github.com/RaRe-Technologies/smart_open/blob/master/README.rst#migrating-to-the-new-open-function\n",
            "  'See the migration notes for details: %s' % _MIGRATION_NOTES_URL\n"
          ],
          "name": "stderr"
        }
      ]
    },
    {
      "cell_type": "code",
      "metadata": {
        "id": "USOtmnx-UJyg",
        "colab_type": "code",
        "colab": {}
      },
      "source": [
        "import numpy as np"
      ],
      "execution_count": 0,
      "outputs": []
    },
    {
      "cell_type": "code",
      "metadata": {
        "id": "T12sO5lIO9Y7",
        "colab_type": "code",
        "colab": {}
      },
      "source": [
        "def getting_fasttext(filepath):\n",
        "    fasttext_model = KeyedVectors.load(filepath)\n",
        "    return fasttext_model\n",
        "\n",
        "def sent_vectorizer(sent, model): \n",
        "\n",
        "    lemmas_vectors = np.zeros((len(sent), model.vector_size)) \n",
        "    for idx, lemma in enumerate(sent): \n",
        "        if lemma in model.vocab: \n",
        "            lemmas_vectors[idx] = model.wv[lemma] \n",
        "    sent_vector = lemmas_vectors.mean(axis=0) \n",
        "    return sent_vector \n",
        "\n",
        "def fasttext_indexing(d):\n",
        "    model = word_vectors\n",
        "    vectors_dict = {}\n",
        "    \n",
        "    for idx, row in d.iterrows():\n",
        "        sent_vec = sent_vectorizer(row.review_list, model)\n",
        "        vectors_dict[idx] = sent_vec\n",
        "        \n",
        "    data = pd.DataFrame.from_dict(vectors_dict, orient='index')\n",
        "    return data"
      ],
      "execution_count": 0,
      "outputs": []
    },
    {
      "cell_type": "code",
      "metadata": {
        "id": "OrpN1ORURXtT",
        "colab_type": "code",
        "colab": {
          "base_uri": "https://localhost:8080/",
          "height": 74
        },
        "outputId": "5180e43e-07f9-4b2c-f899-e1ad47f3a441"
      },
      "source": [
        "df_train_vectors_r = fasttext_indexing(df_train[['review_list']])\n",
        "df_test_vectors_r = fasttext_indexing(df_test[['review_list']])\n"
      ],
      "execution_count": 52,
      "outputs": [
        {
          "output_type": "stream",
          "text": [
            "/usr/local/lib/python3.6/dist-packages/ipykernel_launcher.py:10: DeprecationWarning: Call to deprecated `wv` (Attribute will be removed in 4.0.0, use self instead).\n",
            "  # Remove the CWD from sys.path while we load stuff.\n"
          ],
          "name": "stderr"
        }
      ]
    },
    {
      "cell_type": "code",
      "metadata": {
        "id": "y1gcNrmWnuB5",
        "colab_type": "code",
        "colab": {}
      },
      "source": [
        "def fasttext_indexing(d):\n",
        "    model = word_vectors\n",
        "    vectors_dict = {}\n",
        "    \n",
        "    for idx, row in d.iterrows():\n",
        "        sent_vec = sent_vectorizer(row.title_list, model)\n",
        "        vectors_dict[idx] = sent_vec\n",
        "        \n",
        "    data = pd.DataFrame.from_dict(vectors_dict, orient='index')\n",
        "    return data"
      ],
      "execution_count": 0,
      "outputs": []
    },
    {
      "cell_type": "code",
      "metadata": {
        "id": "wc_vAcVSawq4",
        "colab_type": "code",
        "colab": {
          "base_uri": "https://localhost:8080/",
          "height": 74
        },
        "outputId": "687138bd-686e-409f-e183-64e014441c9a"
      },
      "source": [
        "df_train_vectors_t = fasttext_indexing(df_train[['title_list']])"
      ],
      "execution_count": 53,
      "outputs": [
        {
          "output_type": "stream",
          "text": [
            "/usr/local/lib/python3.6/dist-packages/ipykernel_launcher.py:10: DeprecationWarning: Call to deprecated `wv` (Attribute will be removed in 4.0.0, use self instead).\n",
            "  # Remove the CWD from sys.path while we load stuff.\n"
          ],
          "name": "stderr"
        }
      ]
    },
    {
      "cell_type": "code",
      "metadata": {
        "id": "ORw-XFpoerCU",
        "colab_type": "code",
        "colab": {
          "base_uri": "https://localhost:8080/",
          "height": 146
        },
        "outputId": "49788906-eda6-450a-9f50-c8d08e22d1fe"
      },
      "source": [
        "df_test_vectors_t = fasttext_indexing(df_test[['title_list']])"
      ],
      "execution_count": 56,
      "outputs": [
        {
          "output_type": "stream",
          "text": [
            "/usr/local/lib/python3.6/dist-packages/ipykernel_launcher.py:10: DeprecationWarning: Call to deprecated `wv` (Attribute will be removed in 4.0.0, use self instead).\n",
            "  # Remove the CWD from sys.path while we load stuff.\n",
            "/usr/local/lib/python3.6/dist-packages/ipykernel_launcher.py:11: RuntimeWarning: Mean of empty slice.\n",
            "  # This is added back by InteractiveShellApp.init_path()\n",
            "/usr/local/lib/python3.6/dist-packages/numpy/core/_methods.py:154: RuntimeWarning: invalid value encountered in true_divide\n",
            "  ret, rcount, out=ret, casting='unsafe', subok=False)\n"
          ],
          "name": "stderr"
        }
      ]
    },
    {
      "cell_type": "code",
      "metadata": {
        "id": "F2ryx3BFU12A",
        "colab_type": "code",
        "colab": {}
      },
      "source": [
        "from sklearn.decomposition import TruncatedSVD"
      ],
      "execution_count": 0,
      "outputs": []
    },
    {
      "cell_type": "code",
      "metadata": {
        "id": "XiW3cGY0U2s4",
        "colab_type": "code",
        "colab": {}
      },
      "source": [
        "svd = TruncatedSVD(n_components=10, n_iter=7, random_state=SEED)"
      ],
      "execution_count": 0,
      "outputs": []
    },
    {
      "cell_type": "code",
      "metadata": {
        "id": "nB_8lsX4fIul",
        "colab_type": "code",
        "colab": {
          "base_uri": "https://localhost:8080/",
          "height": 427
        },
        "outputId": "409dff83-2481-4b70-bdae-3739489c73ca"
      },
      "source": [
        "#df_train_vectors_t.fillna(df_train_vectors_t.mean())"
      ],
      "execution_count": 33,
      "outputs": [
        {
          "output_type": "execute_result",
          "data": {
            "text/html": [
              "<div>\n",
              "<style scoped>\n",
              "    .dataframe tbody tr th:only-of-type {\n",
              "        vertical-align: middle;\n",
              "    }\n",
              "\n",
              "    .dataframe tbody tr th {\n",
              "        vertical-align: top;\n",
              "    }\n",
              "\n",
              "    .dataframe thead th {\n",
              "        text-align: right;\n",
              "    }\n",
              "</style>\n",
              "<table border=\"1\" class=\"dataframe\">\n",
              "  <thead>\n",
              "    <tr style=\"text-align: right;\">\n",
              "      <th></th>\n",
              "      <th>0</th>\n",
              "      <th>1</th>\n",
              "      <th>2</th>\n",
              "      <th>3</th>\n",
              "      <th>4</th>\n",
              "      <th>5</th>\n",
              "      <th>6</th>\n",
              "      <th>7</th>\n",
              "      <th>8</th>\n",
              "      <th>9</th>\n",
              "      <th>10</th>\n",
              "      <th>11</th>\n",
              "      <th>12</th>\n",
              "      <th>13</th>\n",
              "      <th>14</th>\n",
              "      <th>15</th>\n",
              "      <th>16</th>\n",
              "      <th>17</th>\n",
              "      <th>18</th>\n",
              "      <th>19</th>\n",
              "      <th>20</th>\n",
              "      <th>21</th>\n",
              "      <th>22</th>\n",
              "      <th>23</th>\n",
              "      <th>24</th>\n",
              "      <th>25</th>\n",
              "      <th>26</th>\n",
              "      <th>27</th>\n",
              "      <th>28</th>\n",
              "      <th>29</th>\n",
              "      <th>30</th>\n",
              "      <th>31</th>\n",
              "      <th>32</th>\n",
              "      <th>33</th>\n",
              "      <th>34</th>\n",
              "      <th>35</th>\n",
              "      <th>36</th>\n",
              "      <th>37</th>\n",
              "      <th>38</th>\n",
              "      <th>39</th>\n",
              "      <th>...</th>\n",
              "      <th>60</th>\n",
              "      <th>61</th>\n",
              "      <th>62</th>\n",
              "      <th>63</th>\n",
              "      <th>64</th>\n",
              "      <th>65</th>\n",
              "      <th>66</th>\n",
              "      <th>67</th>\n",
              "      <th>68</th>\n",
              "      <th>69</th>\n",
              "      <th>70</th>\n",
              "      <th>71</th>\n",
              "      <th>72</th>\n",
              "      <th>73</th>\n",
              "      <th>74</th>\n",
              "      <th>75</th>\n",
              "      <th>76</th>\n",
              "      <th>77</th>\n",
              "      <th>78</th>\n",
              "      <th>79</th>\n",
              "      <th>80</th>\n",
              "      <th>81</th>\n",
              "      <th>82</th>\n",
              "      <th>83</th>\n",
              "      <th>84</th>\n",
              "      <th>85</th>\n",
              "      <th>86</th>\n",
              "      <th>87</th>\n",
              "      <th>88</th>\n",
              "      <th>89</th>\n",
              "      <th>90</th>\n",
              "      <th>91</th>\n",
              "      <th>92</th>\n",
              "      <th>93</th>\n",
              "      <th>94</th>\n",
              "      <th>95</th>\n",
              "      <th>96</th>\n",
              "      <th>97</th>\n",
              "      <th>98</th>\n",
              "      <th>99</th>\n",
              "    </tr>\n",
              "  </thead>\n",
              "  <tbody>\n",
              "    <tr>\n",
              "      <th>0</th>\n",
              "      <td>0.000000</td>\n",
              "      <td>0.000000</td>\n",
              "      <td>0.000000</td>\n",
              "      <td>0.000000</td>\n",
              "      <td>0.000000</td>\n",
              "      <td>0.000000</td>\n",
              "      <td>0.000000</td>\n",
              "      <td>0.000000</td>\n",
              "      <td>0.000000</td>\n",
              "      <td>0.000000</td>\n",
              "      <td>0.000000</td>\n",
              "      <td>0.000000</td>\n",
              "      <td>0.000000</td>\n",
              "      <td>0.000000</td>\n",
              "      <td>0.000000</td>\n",
              "      <td>0.000000</td>\n",
              "      <td>0.000000</td>\n",
              "      <td>0.000000</td>\n",
              "      <td>0.000000</td>\n",
              "      <td>0.000000</td>\n",
              "      <td>0.000000</td>\n",
              "      <td>0.000000</td>\n",
              "      <td>0.000000</td>\n",
              "      <td>0.000000</td>\n",
              "      <td>0.000000</td>\n",
              "      <td>0.000000</td>\n",
              "      <td>0.000000</td>\n",
              "      <td>0.000000</td>\n",
              "      <td>0.000000</td>\n",
              "      <td>0.000000</td>\n",
              "      <td>0.000000</td>\n",
              "      <td>0.000000</td>\n",
              "      <td>0.000000</td>\n",
              "      <td>0.000000</td>\n",
              "      <td>0.000000</td>\n",
              "      <td>0.000000</td>\n",
              "      <td>0.000000</td>\n",
              "      <td>0.000000</td>\n",
              "      <td>0.000000</td>\n",
              "      <td>0.000000</td>\n",
              "      <td>...</td>\n",
              "      <td>0.000000</td>\n",
              "      <td>0.000000</td>\n",
              "      <td>0.000000</td>\n",
              "      <td>0.000000</td>\n",
              "      <td>0.000000</td>\n",
              "      <td>0.000000</td>\n",
              "      <td>0.000000</td>\n",
              "      <td>0.000000</td>\n",
              "      <td>0.000000</td>\n",
              "      <td>0.000000</td>\n",
              "      <td>0.000000</td>\n",
              "      <td>0.000000</td>\n",
              "      <td>0.000000</td>\n",
              "      <td>0.000000</td>\n",
              "      <td>0.000000</td>\n",
              "      <td>0.000000</td>\n",
              "      <td>0.000000</td>\n",
              "      <td>0.000000</td>\n",
              "      <td>0.000000</td>\n",
              "      <td>0.000000</td>\n",
              "      <td>0.000000</td>\n",
              "      <td>0.000000</td>\n",
              "      <td>0.000000</td>\n",
              "      <td>0.000000</td>\n",
              "      <td>0.000000</td>\n",
              "      <td>0.000000</td>\n",
              "      <td>0.000000</td>\n",
              "      <td>0.000000</td>\n",
              "      <td>0.000000</td>\n",
              "      <td>0.000000</td>\n",
              "      <td>0.000000</td>\n",
              "      <td>0.000000</td>\n",
              "      <td>0.000000</td>\n",
              "      <td>0.000000</td>\n",
              "      <td>0.000000</td>\n",
              "      <td>0.000000</td>\n",
              "      <td>0.000000</td>\n",
              "      <td>0.000000</td>\n",
              "      <td>0.000000</td>\n",
              "      <td>0.000000</td>\n",
              "    </tr>\n",
              "    <tr>\n",
              "      <th>1</th>\n",
              "      <td>0.000000</td>\n",
              "      <td>0.000000</td>\n",
              "      <td>0.000000</td>\n",
              "      <td>0.000000</td>\n",
              "      <td>0.000000</td>\n",
              "      <td>0.000000</td>\n",
              "      <td>0.000000</td>\n",
              "      <td>0.000000</td>\n",
              "      <td>0.000000</td>\n",
              "      <td>0.000000</td>\n",
              "      <td>0.000000</td>\n",
              "      <td>0.000000</td>\n",
              "      <td>0.000000</td>\n",
              "      <td>0.000000</td>\n",
              "      <td>0.000000</td>\n",
              "      <td>0.000000</td>\n",
              "      <td>0.000000</td>\n",
              "      <td>0.000000</td>\n",
              "      <td>0.000000</td>\n",
              "      <td>0.000000</td>\n",
              "      <td>0.000000</td>\n",
              "      <td>0.000000</td>\n",
              "      <td>0.000000</td>\n",
              "      <td>0.000000</td>\n",
              "      <td>0.000000</td>\n",
              "      <td>0.000000</td>\n",
              "      <td>0.000000</td>\n",
              "      <td>0.000000</td>\n",
              "      <td>0.000000</td>\n",
              "      <td>0.000000</td>\n",
              "      <td>0.000000</td>\n",
              "      <td>0.000000</td>\n",
              "      <td>0.000000</td>\n",
              "      <td>0.000000</td>\n",
              "      <td>0.000000</td>\n",
              "      <td>0.000000</td>\n",
              "      <td>0.000000</td>\n",
              "      <td>0.000000</td>\n",
              "      <td>0.000000</td>\n",
              "      <td>0.000000</td>\n",
              "      <td>...</td>\n",
              "      <td>0.000000</td>\n",
              "      <td>0.000000</td>\n",
              "      <td>0.000000</td>\n",
              "      <td>0.000000</td>\n",
              "      <td>0.000000</td>\n",
              "      <td>0.000000</td>\n",
              "      <td>0.000000</td>\n",
              "      <td>0.000000</td>\n",
              "      <td>0.000000</td>\n",
              "      <td>0.000000</td>\n",
              "      <td>0.000000</td>\n",
              "      <td>0.000000</td>\n",
              "      <td>0.000000</td>\n",
              "      <td>0.000000</td>\n",
              "      <td>0.000000</td>\n",
              "      <td>0.000000</td>\n",
              "      <td>0.000000</td>\n",
              "      <td>0.000000</td>\n",
              "      <td>0.000000</td>\n",
              "      <td>0.000000</td>\n",
              "      <td>0.000000</td>\n",
              "      <td>0.000000</td>\n",
              "      <td>0.000000</td>\n",
              "      <td>0.000000</td>\n",
              "      <td>0.000000</td>\n",
              "      <td>0.000000</td>\n",
              "      <td>0.000000</td>\n",
              "      <td>0.000000</td>\n",
              "      <td>0.000000</td>\n",
              "      <td>0.000000</td>\n",
              "      <td>0.000000</td>\n",
              "      <td>0.000000</td>\n",
              "      <td>0.000000</td>\n",
              "      <td>0.000000</td>\n",
              "      <td>0.000000</td>\n",
              "      <td>0.000000</td>\n",
              "      <td>0.000000</td>\n",
              "      <td>0.000000</td>\n",
              "      <td>0.000000</td>\n",
              "      <td>0.000000</td>\n",
              "    </tr>\n",
              "    <tr>\n",
              "      <th>2</th>\n",
              "      <td>-0.431667</td>\n",
              "      <td>0.062893</td>\n",
              "      <td>0.274097</td>\n",
              "      <td>0.018545</td>\n",
              "      <td>-0.085472</td>\n",
              "      <td>0.017389</td>\n",
              "      <td>0.146246</td>\n",
              "      <td>0.315056</td>\n",
              "      <td>-0.286067</td>\n",
              "      <td>0.043705</td>\n",
              "      <td>-0.105503</td>\n",
              "      <td>-0.617797</td>\n",
              "      <td>0.406770</td>\n",
              "      <td>-0.002753</td>\n",
              "      <td>0.253302</td>\n",
              "      <td>-0.212054</td>\n",
              "      <td>0.181355</td>\n",
              "      <td>-0.333107</td>\n",
              "      <td>-0.279485</td>\n",
              "      <td>0.085587</td>\n",
              "      <td>0.014313</td>\n",
              "      <td>0.227944</td>\n",
              "      <td>0.195895</td>\n",
              "      <td>0.048733</td>\n",
              "      <td>-0.071945</td>\n",
              "      <td>-0.038975</td>\n",
              "      <td>-0.091613</td>\n",
              "      <td>-0.021744</td>\n",
              "      <td>0.064030</td>\n",
              "      <td>-0.076226</td>\n",
              "      <td>-0.179831</td>\n",
              "      <td>0.417229</td>\n",
              "      <td>-0.001327</td>\n",
              "      <td>-0.000873</td>\n",
              "      <td>0.148841</td>\n",
              "      <td>0.318177</td>\n",
              "      <td>0.017370</td>\n",
              "      <td>0.070743</td>\n",
              "      <td>-0.016703</td>\n",
              "      <td>-0.282467</td>\n",
              "      <td>...</td>\n",
              "      <td>-0.270545</td>\n",
              "      <td>0.482031</td>\n",
              "      <td>-0.046990</td>\n",
              "      <td>-0.059074</td>\n",
              "      <td>0.498145</td>\n",
              "      <td>-0.218714</td>\n",
              "      <td>0.235912</td>\n",
              "      <td>0.097888</td>\n",
              "      <td>0.339521</td>\n",
              "      <td>-0.047848</td>\n",
              "      <td>-0.035348</td>\n",
              "      <td>-0.215758</td>\n",
              "      <td>0.202270</td>\n",
              "      <td>-0.470755</td>\n",
              "      <td>0.350962</td>\n",
              "      <td>0.311658</td>\n",
              "      <td>0.226575</td>\n",
              "      <td>-0.133007</td>\n",
              "      <td>-0.216087</td>\n",
              "      <td>0.163623</td>\n",
              "      <td>0.365183</td>\n",
              "      <td>0.002406</td>\n",
              "      <td>-0.203425</td>\n",
              "      <td>0.088917</td>\n",
              "      <td>-0.747350</td>\n",
              "      <td>-0.025333</td>\n",
              "      <td>-0.006202</td>\n",
              "      <td>0.182291</td>\n",
              "      <td>-0.073721</td>\n",
              "      <td>-0.259243</td>\n",
              "      <td>0.256247</td>\n",
              "      <td>-0.101021</td>\n",
              "      <td>0.324049</td>\n",
              "      <td>0.099827</td>\n",
              "      <td>-0.462717</td>\n",
              "      <td>0.296426</td>\n",
              "      <td>-0.338313</td>\n",
              "      <td>-0.140888</td>\n",
              "      <td>0.187596</td>\n",
              "      <td>0.120798</td>\n",
              "    </tr>\n",
              "    <tr>\n",
              "      <th>3</th>\n",
              "      <td>0.045743</td>\n",
              "      <td>-0.186493</td>\n",
              "      <td>0.362227</td>\n",
              "      <td>-0.060547</td>\n",
              "      <td>0.081953</td>\n",
              "      <td>0.432997</td>\n",
              "      <td>0.286136</td>\n",
              "      <td>0.670643</td>\n",
              "      <td>0.026240</td>\n",
              "      <td>-0.112813</td>\n",
              "      <td>0.376897</td>\n",
              "      <td>-0.347500</td>\n",
              "      <td>-0.088063</td>\n",
              "      <td>0.248980</td>\n",
              "      <td>0.203200</td>\n",
              "      <td>-0.001057</td>\n",
              "      <td>0.011963</td>\n",
              "      <td>-0.234630</td>\n",
              "      <td>-0.395277</td>\n",
              "      <td>0.368837</td>\n",
              "      <td>0.378107</td>\n",
              "      <td>0.288925</td>\n",
              "      <td>0.071480</td>\n",
              "      <td>-0.358217</td>\n",
              "      <td>0.218087</td>\n",
              "      <td>-0.125910</td>\n",
              "      <td>-0.339573</td>\n",
              "      <td>-0.561010</td>\n",
              "      <td>-0.312207</td>\n",
              "      <td>-0.541517</td>\n",
              "      <td>-0.314903</td>\n",
              "      <td>0.236910</td>\n",
              "      <td>0.283767</td>\n",
              "      <td>0.083852</td>\n",
              "      <td>0.237843</td>\n",
              "      <td>0.586307</td>\n",
              "      <td>0.218223</td>\n",
              "      <td>0.384033</td>\n",
              "      <td>0.306113</td>\n",
              "      <td>-0.551270</td>\n",
              "      <td>...</td>\n",
              "      <td>-0.490067</td>\n",
              "      <td>0.480610</td>\n",
              "      <td>-0.415433</td>\n",
              "      <td>-0.135457</td>\n",
              "      <td>0.256690</td>\n",
              "      <td>-0.197095</td>\n",
              "      <td>0.481920</td>\n",
              "      <td>0.270821</td>\n",
              "      <td>0.078012</td>\n",
              "      <td>-0.107877</td>\n",
              "      <td>-0.275983</td>\n",
              "      <td>-0.351503</td>\n",
              "      <td>0.063148</td>\n",
              "      <td>-0.516620</td>\n",
              "      <td>0.174474</td>\n",
              "      <td>0.108357</td>\n",
              "      <td>0.400423</td>\n",
              "      <td>-0.084410</td>\n",
              "      <td>-0.472667</td>\n",
              "      <td>0.033673</td>\n",
              "      <td>0.463859</td>\n",
              "      <td>-0.246785</td>\n",
              "      <td>-0.090403</td>\n",
              "      <td>0.011221</td>\n",
              "      <td>-0.715847</td>\n",
              "      <td>-0.227771</td>\n",
              "      <td>0.008673</td>\n",
              "      <td>-0.106435</td>\n",
              "      <td>-0.283532</td>\n",
              "      <td>-0.486703</td>\n",
              "      <td>0.346383</td>\n",
              "      <td>-0.545100</td>\n",
              "      <td>0.511060</td>\n",
              "      <td>-0.049387</td>\n",
              "      <td>-0.832277</td>\n",
              "      <td>0.658623</td>\n",
              "      <td>-0.281739</td>\n",
              "      <td>-0.217781</td>\n",
              "      <td>0.542377</td>\n",
              "      <td>0.130140</td>\n",
              "    </tr>\n",
              "    <tr>\n",
              "      <th>4</th>\n",
              "      <td>0.000000</td>\n",
              "      <td>0.000000</td>\n",
              "      <td>0.000000</td>\n",
              "      <td>0.000000</td>\n",
              "      <td>0.000000</td>\n",
              "      <td>0.000000</td>\n",
              "      <td>0.000000</td>\n",
              "      <td>0.000000</td>\n",
              "      <td>0.000000</td>\n",
              "      <td>0.000000</td>\n",
              "      <td>0.000000</td>\n",
              "      <td>0.000000</td>\n",
              "      <td>0.000000</td>\n",
              "      <td>0.000000</td>\n",
              "      <td>0.000000</td>\n",
              "      <td>0.000000</td>\n",
              "      <td>0.000000</td>\n",
              "      <td>0.000000</td>\n",
              "      <td>0.000000</td>\n",
              "      <td>0.000000</td>\n",
              "      <td>0.000000</td>\n",
              "      <td>0.000000</td>\n",
              "      <td>0.000000</td>\n",
              "      <td>0.000000</td>\n",
              "      <td>0.000000</td>\n",
              "      <td>0.000000</td>\n",
              "      <td>0.000000</td>\n",
              "      <td>0.000000</td>\n",
              "      <td>0.000000</td>\n",
              "      <td>0.000000</td>\n",
              "      <td>0.000000</td>\n",
              "      <td>0.000000</td>\n",
              "      <td>0.000000</td>\n",
              "      <td>0.000000</td>\n",
              "      <td>0.000000</td>\n",
              "      <td>0.000000</td>\n",
              "      <td>0.000000</td>\n",
              "      <td>0.000000</td>\n",
              "      <td>0.000000</td>\n",
              "      <td>0.000000</td>\n",
              "      <td>...</td>\n",
              "      <td>0.000000</td>\n",
              "      <td>0.000000</td>\n",
              "      <td>0.000000</td>\n",
              "      <td>0.000000</td>\n",
              "      <td>0.000000</td>\n",
              "      <td>0.000000</td>\n",
              "      <td>0.000000</td>\n",
              "      <td>0.000000</td>\n",
              "      <td>0.000000</td>\n",
              "      <td>0.000000</td>\n",
              "      <td>0.000000</td>\n",
              "      <td>0.000000</td>\n",
              "      <td>0.000000</td>\n",
              "      <td>0.000000</td>\n",
              "      <td>0.000000</td>\n",
              "      <td>0.000000</td>\n",
              "      <td>0.000000</td>\n",
              "      <td>0.000000</td>\n",
              "      <td>0.000000</td>\n",
              "      <td>0.000000</td>\n",
              "      <td>0.000000</td>\n",
              "      <td>0.000000</td>\n",
              "      <td>0.000000</td>\n",
              "      <td>0.000000</td>\n",
              "      <td>0.000000</td>\n",
              "      <td>0.000000</td>\n",
              "      <td>0.000000</td>\n",
              "      <td>0.000000</td>\n",
              "      <td>0.000000</td>\n",
              "      <td>0.000000</td>\n",
              "      <td>0.000000</td>\n",
              "      <td>0.000000</td>\n",
              "      <td>0.000000</td>\n",
              "      <td>0.000000</td>\n",
              "      <td>0.000000</td>\n",
              "      <td>0.000000</td>\n",
              "      <td>0.000000</td>\n",
              "      <td>0.000000</td>\n",
              "      <td>0.000000</td>\n",
              "      <td>0.000000</td>\n",
              "    </tr>\n",
              "    <tr>\n",
              "      <th>...</th>\n",
              "      <td>...</td>\n",
              "      <td>...</td>\n",
              "      <td>...</td>\n",
              "      <td>...</td>\n",
              "      <td>...</td>\n",
              "      <td>...</td>\n",
              "      <td>...</td>\n",
              "      <td>...</td>\n",
              "      <td>...</td>\n",
              "      <td>...</td>\n",
              "      <td>...</td>\n",
              "      <td>...</td>\n",
              "      <td>...</td>\n",
              "      <td>...</td>\n",
              "      <td>...</td>\n",
              "      <td>...</td>\n",
              "      <td>...</td>\n",
              "      <td>...</td>\n",
              "      <td>...</td>\n",
              "      <td>...</td>\n",
              "      <td>...</td>\n",
              "      <td>...</td>\n",
              "      <td>...</td>\n",
              "      <td>...</td>\n",
              "      <td>...</td>\n",
              "      <td>...</td>\n",
              "      <td>...</td>\n",
              "      <td>...</td>\n",
              "      <td>...</td>\n",
              "      <td>...</td>\n",
              "      <td>...</td>\n",
              "      <td>...</td>\n",
              "      <td>...</td>\n",
              "      <td>...</td>\n",
              "      <td>...</td>\n",
              "      <td>...</td>\n",
              "      <td>...</td>\n",
              "      <td>...</td>\n",
              "      <td>...</td>\n",
              "      <td>...</td>\n",
              "      <td>...</td>\n",
              "      <td>...</td>\n",
              "      <td>...</td>\n",
              "      <td>...</td>\n",
              "      <td>...</td>\n",
              "      <td>...</td>\n",
              "      <td>...</td>\n",
              "      <td>...</td>\n",
              "      <td>...</td>\n",
              "      <td>...</td>\n",
              "      <td>...</td>\n",
              "      <td>...</td>\n",
              "      <td>...</td>\n",
              "      <td>...</td>\n",
              "      <td>...</td>\n",
              "      <td>...</td>\n",
              "      <td>...</td>\n",
              "      <td>...</td>\n",
              "      <td>...</td>\n",
              "      <td>...</td>\n",
              "      <td>...</td>\n",
              "      <td>...</td>\n",
              "      <td>...</td>\n",
              "      <td>...</td>\n",
              "      <td>...</td>\n",
              "      <td>...</td>\n",
              "      <td>...</td>\n",
              "      <td>...</td>\n",
              "      <td>...</td>\n",
              "      <td>...</td>\n",
              "      <td>...</td>\n",
              "      <td>...</td>\n",
              "      <td>...</td>\n",
              "      <td>...</td>\n",
              "      <td>...</td>\n",
              "      <td>...</td>\n",
              "      <td>...</td>\n",
              "      <td>...</td>\n",
              "      <td>...</td>\n",
              "      <td>...</td>\n",
              "      <td>...</td>\n",
              "    </tr>\n",
              "    <tr>\n",
              "      <th>48187</th>\n",
              "      <td>0.018404</td>\n",
              "      <td>0.105080</td>\n",
              "      <td>0.681434</td>\n",
              "      <td>-0.394714</td>\n",
              "      <td>0.104464</td>\n",
              "      <td>0.172207</td>\n",
              "      <td>0.028784</td>\n",
              "      <td>0.297752</td>\n",
              "      <td>0.156376</td>\n",
              "      <td>-0.125808</td>\n",
              "      <td>0.389022</td>\n",
              "      <td>-0.189407</td>\n",
              "      <td>-0.055974</td>\n",
              "      <td>0.172740</td>\n",
              "      <td>0.177231</td>\n",
              "      <td>-0.193533</td>\n",
              "      <td>0.043681</td>\n",
              "      <td>0.032653</td>\n",
              "      <td>-0.460447</td>\n",
              "      <td>0.274864</td>\n",
              "      <td>0.347917</td>\n",
              "      <td>0.315579</td>\n",
              "      <td>0.137529</td>\n",
              "      <td>-0.056452</td>\n",
              "      <td>0.279239</td>\n",
              "      <td>0.338724</td>\n",
              "      <td>-0.293783</td>\n",
              "      <td>-0.318946</td>\n",
              "      <td>0.263306</td>\n",
              "      <td>-0.168131</td>\n",
              "      <td>-0.033868</td>\n",
              "      <td>0.158186</td>\n",
              "      <td>0.139553</td>\n",
              "      <td>-0.061013</td>\n",
              "      <td>-0.010787</td>\n",
              "      <td>0.312393</td>\n",
              "      <td>0.240218</td>\n",
              "      <td>0.316334</td>\n",
              "      <td>0.167827</td>\n",
              "      <td>-0.408529</td>\n",
              "      <td>...</td>\n",
              "      <td>-0.278505</td>\n",
              "      <td>0.327400</td>\n",
              "      <td>-0.152612</td>\n",
              "      <td>-0.172940</td>\n",
              "      <td>0.422923</td>\n",
              "      <td>-0.126411</td>\n",
              "      <td>0.585758</td>\n",
              "      <td>0.338783</td>\n",
              "      <td>0.003662</td>\n",
              "      <td>0.007761</td>\n",
              "      <td>0.029493</td>\n",
              "      <td>-0.036525</td>\n",
              "      <td>-0.078613</td>\n",
              "      <td>-0.514127</td>\n",
              "      <td>-0.021194</td>\n",
              "      <td>0.299448</td>\n",
              "      <td>0.161419</td>\n",
              "      <td>-0.200851</td>\n",
              "      <td>-0.395482</td>\n",
              "      <td>-0.123980</td>\n",
              "      <td>0.513671</td>\n",
              "      <td>-0.071332</td>\n",
              "      <td>-0.026643</td>\n",
              "      <td>-0.027163</td>\n",
              "      <td>-0.717833</td>\n",
              "      <td>-0.034359</td>\n",
              "      <td>-0.197441</td>\n",
              "      <td>-0.171290</td>\n",
              "      <td>0.163959</td>\n",
              "      <td>-0.056110</td>\n",
              "      <td>0.200693</td>\n",
              "      <td>-0.265867</td>\n",
              "      <td>0.195336</td>\n",
              "      <td>0.366054</td>\n",
              "      <td>-0.306739</td>\n",
              "      <td>0.042822</td>\n",
              "      <td>-0.295009</td>\n",
              "      <td>-0.488604</td>\n",
              "      <td>0.308987</td>\n",
              "      <td>0.095728</td>\n",
              "    </tr>\n",
              "    <tr>\n",
              "      <th>48188</th>\n",
              "      <td>-0.009997</td>\n",
              "      <td>0.014798</td>\n",
              "      <td>0.211302</td>\n",
              "      <td>0.016087</td>\n",
              "      <td>-0.203394</td>\n",
              "      <td>-0.139454</td>\n",
              "      <td>-0.067301</td>\n",
              "      <td>0.174600</td>\n",
              "      <td>-0.006195</td>\n",
              "      <td>0.024032</td>\n",
              "      <td>0.113897</td>\n",
              "      <td>-0.088306</td>\n",
              "      <td>0.182498</td>\n",
              "      <td>-0.039265</td>\n",
              "      <td>0.166502</td>\n",
              "      <td>-0.192669</td>\n",
              "      <td>-0.009220</td>\n",
              "      <td>-0.103070</td>\n",
              "      <td>-0.297960</td>\n",
              "      <td>0.378458</td>\n",
              "      <td>0.080508</td>\n",
              "      <td>-0.081429</td>\n",
              "      <td>0.244975</td>\n",
              "      <td>0.107107</td>\n",
              "      <td>0.154070</td>\n",
              "      <td>-0.156866</td>\n",
              "      <td>-0.051650</td>\n",
              "      <td>-0.314648</td>\n",
              "      <td>-0.320317</td>\n",
              "      <td>-0.125769</td>\n",
              "      <td>0.049124</td>\n",
              "      <td>0.365474</td>\n",
              "      <td>0.041980</td>\n",
              "      <td>0.093759</td>\n",
              "      <td>0.132646</td>\n",
              "      <td>0.520247</td>\n",
              "      <td>0.242287</td>\n",
              "      <td>0.193878</td>\n",
              "      <td>0.150198</td>\n",
              "      <td>-0.501929</td>\n",
              "      <td>...</td>\n",
              "      <td>-0.213333</td>\n",
              "      <td>0.338767</td>\n",
              "      <td>0.179368</td>\n",
              "      <td>0.013558</td>\n",
              "      <td>0.602332</td>\n",
              "      <td>-0.386655</td>\n",
              "      <td>0.231487</td>\n",
              "      <td>-0.205122</td>\n",
              "      <td>0.449687</td>\n",
              "      <td>-0.021194</td>\n",
              "      <td>-0.596093</td>\n",
              "      <td>-0.162733</td>\n",
              "      <td>0.119334</td>\n",
              "      <td>-0.245847</td>\n",
              "      <td>0.225363</td>\n",
              "      <td>-0.040230</td>\n",
              "      <td>0.169355</td>\n",
              "      <td>-0.263353</td>\n",
              "      <td>-0.697905</td>\n",
              "      <td>0.195808</td>\n",
              "      <td>0.101457</td>\n",
              "      <td>0.134145</td>\n",
              "      <td>-0.057237</td>\n",
              "      <td>-0.131662</td>\n",
              "      <td>-0.584487</td>\n",
              "      <td>-0.211576</td>\n",
              "      <td>-0.181650</td>\n",
              "      <td>-0.386755</td>\n",
              "      <td>-0.078178</td>\n",
              "      <td>-0.155535</td>\n",
              "      <td>-0.085161</td>\n",
              "      <td>-0.138070</td>\n",
              "      <td>0.393728</td>\n",
              "      <td>-0.193758</td>\n",
              "      <td>-0.626066</td>\n",
              "      <td>0.058511</td>\n",
              "      <td>0.050177</td>\n",
              "      <td>-0.196207</td>\n",
              "      <td>0.706727</td>\n",
              "      <td>-0.042135</td>\n",
              "    </tr>\n",
              "    <tr>\n",
              "      <th>48189</th>\n",
              "      <td>-0.014042</td>\n",
              "      <td>-0.129139</td>\n",
              "      <td>0.133292</td>\n",
              "      <td>0.225554</td>\n",
              "      <td>-0.061710</td>\n",
              "      <td>0.338010</td>\n",
              "      <td>-0.064498</td>\n",
              "      <td>0.395912</td>\n",
              "      <td>-0.017958</td>\n",
              "      <td>0.021082</td>\n",
              "      <td>0.029490</td>\n",
              "      <td>-0.029188</td>\n",
              "      <td>0.049382</td>\n",
              "      <td>-0.019920</td>\n",
              "      <td>-0.127809</td>\n",
              "      <td>-0.118778</td>\n",
              "      <td>0.041470</td>\n",
              "      <td>-0.135836</td>\n",
              "      <td>-0.102834</td>\n",
              "      <td>0.036116</td>\n",
              "      <td>0.364512</td>\n",
              "      <td>0.123505</td>\n",
              "      <td>-0.127060</td>\n",
              "      <td>-0.352695</td>\n",
              "      <td>0.017398</td>\n",
              "      <td>-0.135474</td>\n",
              "      <td>-0.175059</td>\n",
              "      <td>-0.208691</td>\n",
              "      <td>-0.179523</td>\n",
              "      <td>-0.099571</td>\n",
              "      <td>-0.140042</td>\n",
              "      <td>-0.004272</td>\n",
              "      <td>0.144947</td>\n",
              "      <td>0.108946</td>\n",
              "      <td>0.157138</td>\n",
              "      <td>0.305370</td>\n",
              "      <td>0.180412</td>\n",
              "      <td>0.135736</td>\n",
              "      <td>0.245635</td>\n",
              "      <td>-0.227250</td>\n",
              "      <td>...</td>\n",
              "      <td>-0.202000</td>\n",
              "      <td>0.404170</td>\n",
              "      <td>-0.073417</td>\n",
              "      <td>-0.175686</td>\n",
              "      <td>0.212580</td>\n",
              "      <td>-0.143804</td>\n",
              "      <td>0.307494</td>\n",
              "      <td>-0.082420</td>\n",
              "      <td>0.063419</td>\n",
              "      <td>-0.016853</td>\n",
              "      <td>-0.105977</td>\n",
              "      <td>-0.218730</td>\n",
              "      <td>-0.059285</td>\n",
              "      <td>-0.270112</td>\n",
              "      <td>0.010321</td>\n",
              "      <td>-0.031443</td>\n",
              "      <td>0.172406</td>\n",
              "      <td>0.011964</td>\n",
              "      <td>-0.335124</td>\n",
              "      <td>-0.002118</td>\n",
              "      <td>0.214696</td>\n",
              "      <td>0.078198</td>\n",
              "      <td>0.111136</td>\n",
              "      <td>0.132602</td>\n",
              "      <td>-0.421564</td>\n",
              "      <td>0.030832</td>\n",
              "      <td>-0.130132</td>\n",
              "      <td>-0.129678</td>\n",
              "      <td>-0.069190</td>\n",
              "      <td>-0.213074</td>\n",
              "      <td>0.097056</td>\n",
              "      <td>-0.158986</td>\n",
              "      <td>0.093408</td>\n",
              "      <td>0.103958</td>\n",
              "      <td>-0.397566</td>\n",
              "      <td>0.301675</td>\n",
              "      <td>-0.073490</td>\n",
              "      <td>-0.060644</td>\n",
              "      <td>0.269834</td>\n",
              "      <td>0.160111</td>\n",
              "    </tr>\n",
              "    <tr>\n",
              "      <th>48190</th>\n",
              "      <td>0.000000</td>\n",
              "      <td>0.000000</td>\n",
              "      <td>0.000000</td>\n",
              "      <td>0.000000</td>\n",
              "      <td>0.000000</td>\n",
              "      <td>0.000000</td>\n",
              "      <td>0.000000</td>\n",
              "      <td>0.000000</td>\n",
              "      <td>0.000000</td>\n",
              "      <td>0.000000</td>\n",
              "      <td>0.000000</td>\n",
              "      <td>0.000000</td>\n",
              "      <td>0.000000</td>\n",
              "      <td>0.000000</td>\n",
              "      <td>0.000000</td>\n",
              "      <td>0.000000</td>\n",
              "      <td>0.000000</td>\n",
              "      <td>0.000000</td>\n",
              "      <td>0.000000</td>\n",
              "      <td>0.000000</td>\n",
              "      <td>0.000000</td>\n",
              "      <td>0.000000</td>\n",
              "      <td>0.000000</td>\n",
              "      <td>0.000000</td>\n",
              "      <td>0.000000</td>\n",
              "      <td>0.000000</td>\n",
              "      <td>0.000000</td>\n",
              "      <td>0.000000</td>\n",
              "      <td>0.000000</td>\n",
              "      <td>0.000000</td>\n",
              "      <td>0.000000</td>\n",
              "      <td>0.000000</td>\n",
              "      <td>0.000000</td>\n",
              "      <td>0.000000</td>\n",
              "      <td>0.000000</td>\n",
              "      <td>0.000000</td>\n",
              "      <td>0.000000</td>\n",
              "      <td>0.000000</td>\n",
              "      <td>0.000000</td>\n",
              "      <td>0.000000</td>\n",
              "      <td>...</td>\n",
              "      <td>0.000000</td>\n",
              "      <td>0.000000</td>\n",
              "      <td>0.000000</td>\n",
              "      <td>0.000000</td>\n",
              "      <td>0.000000</td>\n",
              "      <td>0.000000</td>\n",
              "      <td>0.000000</td>\n",
              "      <td>0.000000</td>\n",
              "      <td>0.000000</td>\n",
              "      <td>0.000000</td>\n",
              "      <td>0.000000</td>\n",
              "      <td>0.000000</td>\n",
              "      <td>0.000000</td>\n",
              "      <td>0.000000</td>\n",
              "      <td>0.000000</td>\n",
              "      <td>0.000000</td>\n",
              "      <td>0.000000</td>\n",
              "      <td>0.000000</td>\n",
              "      <td>0.000000</td>\n",
              "      <td>0.000000</td>\n",
              "      <td>0.000000</td>\n",
              "      <td>0.000000</td>\n",
              "      <td>0.000000</td>\n",
              "      <td>0.000000</td>\n",
              "      <td>0.000000</td>\n",
              "      <td>0.000000</td>\n",
              "      <td>0.000000</td>\n",
              "      <td>0.000000</td>\n",
              "      <td>0.000000</td>\n",
              "      <td>0.000000</td>\n",
              "      <td>0.000000</td>\n",
              "      <td>0.000000</td>\n",
              "      <td>0.000000</td>\n",
              "      <td>0.000000</td>\n",
              "      <td>0.000000</td>\n",
              "      <td>0.000000</td>\n",
              "      <td>0.000000</td>\n",
              "      <td>0.000000</td>\n",
              "      <td>0.000000</td>\n",
              "      <td>0.000000</td>\n",
              "    </tr>\n",
              "    <tr>\n",
              "      <th>48191</th>\n",
              "      <td>0.128240</td>\n",
              "      <td>0.164503</td>\n",
              "      <td>0.163653</td>\n",
              "      <td>-0.514467</td>\n",
              "      <td>-0.112047</td>\n",
              "      <td>0.207400</td>\n",
              "      <td>0.107550</td>\n",
              "      <td>0.025110</td>\n",
              "      <td>0.218637</td>\n",
              "      <td>-0.078390</td>\n",
              "      <td>0.403800</td>\n",
              "      <td>0.020643</td>\n",
              "      <td>-0.206680</td>\n",
              "      <td>0.104570</td>\n",
              "      <td>0.129827</td>\n",
              "      <td>-0.081270</td>\n",
              "      <td>-0.021881</td>\n",
              "      <td>0.195990</td>\n",
              "      <td>-0.287940</td>\n",
              "      <td>0.210553</td>\n",
              "      <td>0.227877</td>\n",
              "      <td>0.132157</td>\n",
              "      <td>-0.207960</td>\n",
              "      <td>-0.083647</td>\n",
              "      <td>0.309437</td>\n",
              "      <td>0.505067</td>\n",
              "      <td>-0.146390</td>\n",
              "      <td>0.074163</td>\n",
              "      <td>0.456500</td>\n",
              "      <td>-0.176993</td>\n",
              "      <td>0.132703</td>\n",
              "      <td>0.257047</td>\n",
              "      <td>0.163477</td>\n",
              "      <td>0.196177</td>\n",
              "      <td>0.079200</td>\n",
              "      <td>0.105400</td>\n",
              "      <td>-0.003987</td>\n",
              "      <td>-0.015691</td>\n",
              "      <td>0.115283</td>\n",
              "      <td>-0.431467</td>\n",
              "      <td>...</td>\n",
              "      <td>-0.112367</td>\n",
              "      <td>0.291783</td>\n",
              "      <td>-0.337133</td>\n",
              "      <td>-0.206033</td>\n",
              "      <td>0.336000</td>\n",
              "      <td>0.105020</td>\n",
              "      <td>0.081390</td>\n",
              "      <td>0.021464</td>\n",
              "      <td>0.112260</td>\n",
              "      <td>0.112107</td>\n",
              "      <td>0.153250</td>\n",
              "      <td>0.076043</td>\n",
              "      <td>-0.125017</td>\n",
              "      <td>-0.125027</td>\n",
              "      <td>0.029767</td>\n",
              "      <td>0.179540</td>\n",
              "      <td>0.013238</td>\n",
              "      <td>-0.001213</td>\n",
              "      <td>-0.083410</td>\n",
              "      <td>-0.060747</td>\n",
              "      <td>0.142437</td>\n",
              "      <td>-0.263727</td>\n",
              "      <td>-0.098030</td>\n",
              "      <td>-0.135643</td>\n",
              "      <td>-0.363600</td>\n",
              "      <td>-0.054920</td>\n",
              "      <td>-0.138193</td>\n",
              "      <td>-0.226330</td>\n",
              "      <td>0.094397</td>\n",
              "      <td>0.103123</td>\n",
              "      <td>0.164347</td>\n",
              "      <td>-0.022334</td>\n",
              "      <td>0.167407</td>\n",
              "      <td>0.246530</td>\n",
              "      <td>-0.157833</td>\n",
              "      <td>-0.157807</td>\n",
              "      <td>-0.067473</td>\n",
              "      <td>0.008754</td>\n",
              "      <td>0.130173</td>\n",
              "      <td>0.174057</td>\n",
              "    </tr>\n",
              "  </tbody>\n",
              "</table>\n",
              "<p>48192 rows × 100 columns</p>\n",
              "</div>"
            ],
            "text/plain": [
              "             0         1         2   ...        97        98        99\n",
              "0      0.000000  0.000000  0.000000  ...  0.000000  0.000000  0.000000\n",
              "1      0.000000  0.000000  0.000000  ...  0.000000  0.000000  0.000000\n",
              "2     -0.431667  0.062893  0.274097  ... -0.140888  0.187596  0.120798\n",
              "3      0.045743 -0.186493  0.362227  ... -0.217781  0.542377  0.130140\n",
              "4      0.000000  0.000000  0.000000  ...  0.000000  0.000000  0.000000\n",
              "...         ...       ...       ...  ...       ...       ...       ...\n",
              "48187  0.018404  0.105080  0.681434  ... -0.488604  0.308987  0.095728\n",
              "48188 -0.009997  0.014798  0.211302  ... -0.196207  0.706727 -0.042135\n",
              "48189 -0.014042 -0.129139  0.133292  ... -0.060644  0.269834  0.160111\n",
              "48190  0.000000  0.000000  0.000000  ...  0.000000  0.000000  0.000000\n",
              "48191  0.128240  0.164503  0.163653  ...  0.008754  0.130173  0.174057\n",
              "\n",
              "[48192 rows x 100 columns]"
            ]
          },
          "metadata": {
            "tags": []
          },
          "execution_count": 33
        }
      ]
    },
    {
      "cell_type": "code",
      "metadata": {
        "id": "LncUL8klfhz0",
        "colab_type": "code",
        "colab": {}
      },
      "source": [
        "#df_train_vectors_t.replace([np.inf, -np.inf], np.nan, inplace=True)"
      ],
      "execution_count": 0,
      "outputs": []
    },
    {
      "cell_type": "code",
      "metadata": {
        "id": "t0byrn5OVCpM",
        "colab_type": "code",
        "colab": {}
      },
      "source": [
        "svd_reviews = svd.fit_transform(df_train_vectors_r)\n"
      ],
      "execution_count": 0,
      "outputs": []
    },
    {
      "cell_type": "code",
      "metadata": {
        "id": "3MoR3hpWf2vi",
        "colab_type": "code",
        "colab": {}
      },
      "source": [
        "#svd_titles = svd.fit_transform(df_train_vectors_t)"
      ],
      "execution_count": 0,
      "outputs": []
    },
    {
      "cell_type": "code",
      "metadata": {
        "id": "m9uNRt3ObBWb",
        "colab_type": "code",
        "colab": {}
      },
      "source": [
        "svd_reviews = pd.DataFrame.from_records(svd_reviews)\n",
        "svd_titles = pd.DataFrame.from_records(df_train_vectors_t)#svd_titles)"
      ],
      "execution_count": 0,
      "outputs": []
    },
    {
      "cell_type": "code",
      "metadata": {
        "id": "e79DgXXci0gk",
        "colab_type": "code",
        "colab": {}
      },
      "source": [
        "svd_reviews_test = svd.fit_transform(df_test_vectors_r)\n"
      ],
      "execution_count": 0,
      "outputs": []
    },
    {
      "cell_type": "code",
      "metadata": {
        "id": "h8u98pbTitmK",
        "colab_type": "code",
        "colab": {}
      },
      "source": [
        "svd_reviews_test = pd.DataFrame.from_records(svd_reviews)\n",
        "svd_titles_test = pd.DataFrame.from_records(df_test_vectors_t)#svd_titles)"
      ],
      "execution_count": 0,
      "outputs": []
    },
    {
      "cell_type": "code",
      "metadata": {
        "id": "JtzEFLCpbc6s",
        "colab_type": "code",
        "colab": {}
      },
      "source": [
        "def renaming(n, pref):\n",
        "  rename_dict = {}\n",
        "  for i in range(n):\n",
        "    rename_dict[i] = f'{pref}_{i}'\n",
        "  return rename_dict\n",
        "\n",
        "rename_reviews = renaming(10, 'reviews')\n",
        "rename_titles = renaming(100, 'titles')\n"
      ],
      "execution_count": 0,
      "outputs": []
    },
    {
      "cell_type": "code",
      "metadata": {
        "id": "uyR8J8GnbBSx",
        "colab_type": "code",
        "colab": {
          "base_uri": "https://localhost:8080/",
          "height": 1000
        },
        "outputId": "845c9c3a-ea0a-470e-8612-2e4759966566"
      },
      "source": [
        "train_df = pd.concat([df_train, svd_reviews], axis=1)\n",
        "train_df.rename(columns=rename_reviews)\n"
      ],
      "execution_count": 65,
      "outputs": [
        {
          "output_type": "execute_result",
          "data": {
            "text/html": [
              "<div>\n",
              "<style scoped>\n",
              "    .dataframe tbody tr th:only-of-type {\n",
              "        vertical-align: middle;\n",
              "    }\n",
              "\n",
              "    .dataframe tbody tr th {\n",
              "        vertical-align: top;\n",
              "    }\n",
              "\n",
              "    .dataframe thead th {\n",
              "        text-align: right;\n",
              "    }\n",
              "</style>\n",
              "<table border=\"1\" class=\"dataframe\">\n",
              "  <thead>\n",
              "    <tr style=\"text-align: right;\">\n",
              "      <th></th>\n",
              "      <th>review</th>\n",
              "      <th>title</th>\n",
              "      <th>target</th>\n",
              "      <th>review_list</th>\n",
              "      <th>title_list</th>\n",
              "      <th>reviews_0</th>\n",
              "      <th>reviews_1</th>\n",
              "      <th>reviews_2</th>\n",
              "      <th>reviews_3</th>\n",
              "      <th>reviews_4</th>\n",
              "      <th>reviews_5</th>\n",
              "      <th>reviews_6</th>\n",
              "      <th>reviews_7</th>\n",
              "      <th>reviews_8</th>\n",
              "      <th>reviews_9</th>\n",
              "    </tr>\n",
              "  </thead>\n",
              "  <tbody>\n",
              "    <tr>\n",
              "      <th>0</th>\n",
              "      <td>The staff was very friendly, the breakfast ver...</td>\n",
              "      <td>Walker Gem</td>\n",
              "      <td>5</td>\n",
              "      <td>[The, staff, friendly, ,, breakfast, nice, ., ...</td>\n",
              "      <td>[Walker, Gem]</td>\n",
              "      <td>2.974426</td>\n",
              "      <td>-0.069387</td>\n",
              "      <td>0.378393</td>\n",
              "      <td>0.150578</td>\n",
              "      <td>0.375038</td>\n",
              "      <td>-0.289880</td>\n",
              "      <td>0.186859</td>\n",
              "      <td>-0.230023</td>\n",
              "      <td>-0.503101</td>\n",
              "      <td>-0.165334</td>\n",
              "    </tr>\n",
              "    <tr>\n",
              "      <th>1</th>\n",
              "      <td>Excellent service - very approachable and prof...</td>\n",
              "      <td>Excellent Service</td>\n",
              "      <td>4</td>\n",
              "      <td>[Excellent, service, -, approachable, professi...</td>\n",
              "      <td>[Excellent, Service]</td>\n",
              "      <td>3.030604</td>\n",
              "      <td>-0.436086</td>\n",
              "      <td>-0.116102</td>\n",
              "      <td>-0.076074</td>\n",
              "      <td>0.125817</td>\n",
              "      <td>-0.211366</td>\n",
              "      <td>0.228639</td>\n",
              "      <td>-0.213325</td>\n",
              "      <td>0.115725</td>\n",
              "      <td>-0.097045</td>\n",
              "    </tr>\n",
              "    <tr>\n",
              "      <th>2</th>\n",
              "      <td>Really a top notch place to spend a day at the...</td>\n",
              "      <td>Good location, warm and friendly staff</td>\n",
              "      <td>5</td>\n",
              "      <td>[Really, top, notch, place, spend, day, beginn...</td>\n",
              "      <td>[Good, location, ,, warm, friendly, staff]</td>\n",
              "      <td>3.258713</td>\n",
              "      <td>-0.123356</td>\n",
              "      <td>-0.297114</td>\n",
              "      <td>-0.118052</td>\n",
              "      <td>0.132150</td>\n",
              "      <td>-0.023509</td>\n",
              "      <td>-0.028712</td>\n",
              "      <td>-0.030666</td>\n",
              "      <td>-0.084753</td>\n",
              "      <td>0.119213</td>\n",
              "    </tr>\n",
              "    <tr>\n",
              "      <th>3</th>\n",
              "      <td>a little noisy, there was a false fire alarm a...</td>\n",
              "      <td>nice hotel,</td>\n",
              "      <td>4</td>\n",
              "      <td>[little, noisy, ,, false, fire, alarm, midnigh...</td>\n",
              "      <td>[nice, hotel, ,]</td>\n",
              "      <td>3.377648</td>\n",
              "      <td>0.114495</td>\n",
              "      <td>-0.185578</td>\n",
              "      <td>-0.034461</td>\n",
              "      <td>-0.388714</td>\n",
              "      <td>-0.015352</td>\n",
              "      <td>0.144801</td>\n",
              "      <td>0.251999</td>\n",
              "      <td>0.082745</td>\n",
              "      <td>-0.024170</td>\n",
              "    </tr>\n",
              "    <tr>\n",
              "      <th>4</th>\n",
              "      <td>Place had too many animals and I'm allergic to...</td>\n",
              "      <td>Experience</td>\n",
              "      <td>3</td>\n",
              "      <td>[Place, many, animals, I, 'm, allergic, pets, ...</td>\n",
              "      <td>[Experience]</td>\n",
              "      <td>2.845775</td>\n",
              "      <td>0.067726</td>\n",
              "      <td>0.029010</td>\n",
              "      <td>-0.348187</td>\n",
              "      <td>-0.095190</td>\n",
              "      <td>-0.375173</td>\n",
              "      <td>0.029144</td>\n",
              "      <td>-0.048704</td>\n",
              "      <td>0.167147</td>\n",
              "      <td>-0.002943</td>\n",
              "    </tr>\n",
              "    <tr>\n",
              "      <th>...</th>\n",
              "      <td>...</td>\n",
              "      <td>...</td>\n",
              "      <td>...</td>\n",
              "      <td>...</td>\n",
              "      <td>...</td>\n",
              "      <td>...</td>\n",
              "      <td>...</td>\n",
              "      <td>...</td>\n",
              "      <td>...</td>\n",
              "      <td>...</td>\n",
              "      <td>...</td>\n",
              "      <td>...</td>\n",
              "      <td>...</td>\n",
              "      <td>...</td>\n",
              "      <td>...</td>\n",
              "    </tr>\n",
              "    <tr>\n",
              "      <th>48187</th>\n",
              "      <td>A friend of mine always books the cheapest, ba...</td>\n",
              "      <td>Comfy, cozy but oh, so grand!</td>\n",
              "      <td>4</td>\n",
              "      <td>[A, friend, mine, always, books, cheapest, ,, ...</td>\n",
              "      <td>[Comfy, ,, cozy, oh, ,, grand, !]</td>\n",
              "      <td>2.521485</td>\n",
              "      <td>0.105997</td>\n",
              "      <td>-0.234093</td>\n",
              "      <td>-0.088658</td>\n",
              "      <td>0.003830</td>\n",
              "      <td>-0.059303</td>\n",
              "      <td>-0.078726</td>\n",
              "      <td>0.139586</td>\n",
              "      <td>0.035069</td>\n",
              "      <td>-0.047618</td>\n",
              "    </tr>\n",
              "    <tr>\n",
              "      <th>48188</th>\n",
              "      <td>Stayed here with my family over Spring Break i...</td>\n",
              "      <td>Great location and price for family lodging.</td>\n",
              "      <td>4</td>\n",
              "      <td>[Stayed, family, Spring, Break, 2-bedroom, sui...</td>\n",
              "      <td>[Great, location, price, family, lodging, .]</td>\n",
              "      <td>2.541392</td>\n",
              "      <td>-0.018298</td>\n",
              "      <td>0.080100</td>\n",
              "      <td>0.237153</td>\n",
              "      <td>0.088036</td>\n",
              "      <td>-0.164105</td>\n",
              "      <td>-0.005437</td>\n",
              "      <td>0.073956</td>\n",
              "      <td>0.053013</td>\n",
              "      <td>0.067062</td>\n",
              "    </tr>\n",
              "    <tr>\n",
              "      <th>48189</th>\n",
              "      <td>One word AWFUL and the pool was closed</td>\n",
              "      <td>Good hotel in a quiet part of Memphis</td>\n",
              "      <td>2</td>\n",
              "      <td>[One, word, AWFUL, pool, closed]</td>\n",
              "      <td>[Good, hotel, quiet, part, Memphis]</td>\n",
              "      <td>1.896316</td>\n",
              "      <td>-0.104776</td>\n",
              "      <td>0.266972</td>\n",
              "      <td>0.266516</td>\n",
              "      <td>-0.229428</td>\n",
              "      <td>0.195658</td>\n",
              "      <td>-0.020981</td>\n",
              "      <td>-0.050969</td>\n",
              "      <td>0.237595</td>\n",
              "      <td>0.138702</td>\n",
              "    </tr>\n",
              "    <tr>\n",
              "      <th>48190</th>\n",
              "      <td>Never will stay here again. Dirty towels shirt...</td>\n",
              "      <td>Filthy</td>\n",
              "      <td>1</td>\n",
              "      <td>[Never, stay, ., Dirty, towels, shirts, behind...</td>\n",
              "      <td>[Filthy]</td>\n",
              "      <td>2.169894</td>\n",
              "      <td>0.170527</td>\n",
              "      <td>0.637581</td>\n",
              "      <td>0.088574</td>\n",
              "      <td>-0.624435</td>\n",
              "      <td>-0.156549</td>\n",
              "      <td>0.062989</td>\n",
              "      <td>0.089401</td>\n",
              "      <td>0.057276</td>\n",
              "      <td>-0.074481</td>\n",
              "    </tr>\n",
              "    <tr>\n",
              "      <th>48191</th>\n",
              "      <td>This Inn had been renovated and the staff were...</td>\n",
              "      <td>Christmas Fun!</td>\n",
              "      <td>4</td>\n",
              "      <td>[This, Inn, renovated, staff, extremely, helpf...</td>\n",
              "      <td>[Christmas, Fun, !]</td>\n",
              "      <td>2.709772</td>\n",
              "      <td>0.052366</td>\n",
              "      <td>0.033159</td>\n",
              "      <td>-0.123547</td>\n",
              "      <td>0.111907</td>\n",
              "      <td>-0.053285</td>\n",
              "      <td>0.145573</td>\n",
              "      <td>-0.077418</td>\n",
              "      <td>0.207174</td>\n",
              "      <td>-0.174689</td>\n",
              "    </tr>\n",
              "  </tbody>\n",
              "</table>\n",
              "<p>48192 rows × 15 columns</p>\n",
              "</div>"
            ],
            "text/plain": [
              "                                                  review  ... reviews_9\n",
              "0      The staff was very friendly, the breakfast ver...  ... -0.165334\n",
              "1      Excellent service - very approachable and prof...  ... -0.097045\n",
              "2      Really a top notch place to spend a day at the...  ...  0.119213\n",
              "3      a little noisy, there was a false fire alarm a...  ... -0.024170\n",
              "4      Place had too many animals and I'm allergic to...  ... -0.002943\n",
              "...                                                  ...  ...       ...\n",
              "48187  A friend of mine always books the cheapest, ba...  ... -0.047618\n",
              "48188  Stayed here with my family over Spring Break i...  ...  0.067062\n",
              "48189             One word AWFUL and the pool was closed  ...  0.138702\n",
              "48190  Never will stay here again. Dirty towels shirt...  ... -0.074481\n",
              "48191  This Inn had been renovated and the staff were...  ... -0.174689\n",
              "\n",
              "[48192 rows x 15 columns]"
            ]
          },
          "metadata": {
            "tags": []
          },
          "execution_count": 65
        }
      ]
    },
    {
      "cell_type": "code",
      "metadata": {
        "id": "jJ93JJNFgAy7",
        "colab_type": "code",
        "colab": {}
      },
      "source": [
        "train_df = pd.concat([train_df, svd_titles], axis=1)\n",
        "train_df.rename(columns=rename_titles)\n",
        "train_df = train_df.dropna(axis=0)"
      ],
      "execution_count": 0,
      "outputs": []
    },
    {
      "cell_type": "code",
      "metadata": {
        "id": "EAf424jzhr5c",
        "colab_type": "code",
        "colab": {}
      },
      "source": [
        "X_train = train_df.drop(columns=['review', 'title', 'target', 'review_list', 'title_list'])\n",
        "y_train = train_df['target']"
      ],
      "execution_count": 0,
      "outputs": []
    },
    {
      "cell_type": "code",
      "metadata": {
        "id": "CM7Lki3FmvHO",
        "colab_type": "code",
        "colab": {
          "base_uri": "https://localhost:8080/",
          "height": 35
        },
        "outputId": "bd9940ec-d969-4af3-fb5c-c32c6014a852"
      },
      "source": [
        "X_train.shape"
      ],
      "execution_count": 136,
      "outputs": [
        {
          "output_type": "execute_result",
          "data": {
            "text/plain": [
              "(48186, 210)"
            ]
          },
          "metadata": {
            "tags": []
          },
          "execution_count": 136
        }
      ]
    },
    {
      "cell_type": "code",
      "metadata": {
        "id": "-zs_e8sUWzmz",
        "colab_type": "code",
        "colab": {
          "base_uri": "https://localhost:8080/",
          "height": 163
        },
        "outputId": "3352377b-32b3-4a78-eae5-fe3c66ea2f93"
      },
      "source": [
        "from sklearn.ensemble import RandomForestClassifier\n",
        "\n",
        "model = RandomForestClassifier(random_state=SEED)\n",
        "\n",
        "model.fit(X_train, y_train)"
      ],
      "execution_count": 129,
      "outputs": [
        {
          "output_type": "execute_result",
          "data": {
            "text/plain": [
              "RandomForestClassifier(bootstrap=True, ccp_alpha=0.0, class_weight=None,\n",
              "                       criterion='gini', max_depth=None, max_features='auto',\n",
              "                       max_leaf_nodes=None, max_samples=None,\n",
              "                       min_impurity_decrease=0.0, min_impurity_split=None,\n",
              "                       min_samples_leaf=1, min_samples_split=2,\n",
              "                       min_weight_fraction_leaf=0.0, n_estimators=100,\n",
              "                       n_jobs=None, oob_score=False, random_state=42, verbose=0,\n",
              "                       warm_start=False)"
            ]
          },
          "metadata": {
            "tags": []
          },
          "execution_count": 129
        }
      ]
    },
    {
      "cell_type": "markdown",
      "metadata": {
        "id": "djbT6R-qi7lu",
        "colab_type": "text"
      },
      "source": [
        "# Testing"
      ]
    },
    {
      "cell_type": "code",
      "metadata": {
        "id": "PDZxNVorjJ1k",
        "colab_type": "code",
        "colab": {}
      },
      "source": [
        "test_df = pd.concat([df_test, svd_reviews_test], axis=1)\n",
        "test_df.rename(columns=rename_reviews)\n",
        "test_df = pd.concat([test_df, svd_titles_test], axis=1)\n",
        "test_df.rename(columns=rename_titles)\n",
        "test_df = test_df.dropna(axis=0)\n"
      ],
      "execution_count": 0,
      "outputs": []
    },
    {
      "cell_type": "code",
      "metadata": {
        "id": "PNpSSEwwiNRq",
        "colab_type": "code",
        "colab": {}
      },
      "source": [
        "X_test = test_df.drop(columns=['review', 'title', 'target', 'review_list', 'title_list'])\n",
        "X_test = X_test.dropna(axis=0)\n",
        "y_test = test_df['target']"
      ],
      "execution_count": 0,
      "outputs": []
    },
    {
      "cell_type": "code",
      "metadata": {
        "id": "u83oPMMIkVUB",
        "colab_type": "code",
        "colab": {}
      },
      "source": [
        "X_test = X_test.drop(columns=['review_length', 'title_length'])\n",
        "#X_test = X_test.drop(columns=['review', 'title', 'target', 'review_list', 'title_list'])\n"
      ],
      "execution_count": 0,
      "outputs": []
    },
    {
      "cell_type": "code",
      "metadata": {
        "id": "HDTu8zSdkHCY",
        "colab_type": "code",
        "colab": {}
      },
      "source": [
        "X_test = X_test.replace([np.inf, -np.inf], np.nan, inplace=True)\n"
      ],
      "execution_count": 0,
      "outputs": []
    },
    {
      "cell_type": "code",
      "metadata": {
        "id": "6rNL_Qx6kMYw",
        "colab_type": "code",
        "colab": {
          "base_uri": "https://localhost:8080/",
          "height": 35
        },
        "outputId": "8df6169f-645f-46b3-ab86-c198f8de252b"
      },
      "source": [
        "X_test.shape, y_test.shape"
      ],
      "execution_count": 135,
      "outputs": [
        {
          "output_type": "execute_result",
          "data": {
            "text/plain": [
              "((5354, 110), (5354,))"
            ]
          },
          "metadata": {
            "tags": []
          },
          "execution_count": 135
        }
      ]
    },
    {
      "cell_type": "code",
      "metadata": {
        "id": "T8bk-izzjqhM",
        "colab_type": "code",
        "colab": {}
      },
      "source": [
        "from sklearn import metrics"
      ],
      "execution_count": 0,
      "outputs": []
    },
    {
      "cell_type": "code",
      "metadata": {
        "id": "vG5js0VzjhCL",
        "colab_type": "code",
        "colab": {
          "base_uri": "https://localhost:8080/",
          "height": 342
        },
        "outputId": "432fcd51-dd98-4dd6-8f9d-165c3e1cf722"
      },
      "source": [
        "#print('train', metrics.f1_score(y_train, np.around(model.predict(X_train), 0), average='macro'))\n",
        "print('test', metrics.f1_score(y_test, np.around(model.predict(X_test), 0), average='macro'))"
      ],
      "execution_count": 134,
      "outputs": [
        {
          "output_type": "error",
          "ename": "ValueError",
          "evalue": "ignored",
          "traceback": [
            "\u001b[0;31m---------------------------------------------------------------------------\u001b[0m",
            "\u001b[0;31mValueError\u001b[0m                                Traceback (most recent call last)",
            "\u001b[0;32m<ipython-input-134-c501976390a8>\u001b[0m in \u001b[0;36m<module>\u001b[0;34m()\u001b[0m\n\u001b[0;32m----> 1\u001b[0;31m \u001b[0mprint\u001b[0m\u001b[0;34m(\u001b[0m\u001b[0;34m'test'\u001b[0m\u001b[0;34m,\u001b[0m \u001b[0mmetrics\u001b[0m\u001b[0;34m.\u001b[0m\u001b[0mf1_score\u001b[0m\u001b[0;34m(\u001b[0m\u001b[0my_test\u001b[0m\u001b[0;34m,\u001b[0m \u001b[0mnp\u001b[0m\u001b[0;34m.\u001b[0m\u001b[0maround\u001b[0m\u001b[0;34m(\u001b[0m\u001b[0mmodel\u001b[0m\u001b[0;34m.\u001b[0m\u001b[0mpredict\u001b[0m\u001b[0;34m(\u001b[0m\u001b[0mX_test\u001b[0m\u001b[0;34m)\u001b[0m\u001b[0;34m,\u001b[0m \u001b[0;36m0\u001b[0m\u001b[0;34m)\u001b[0m\u001b[0;34m,\u001b[0m \u001b[0maverage\u001b[0m\u001b[0;34m=\u001b[0m\u001b[0;34m'macro'\u001b[0m\u001b[0;34m)\u001b[0m\u001b[0;34m)\u001b[0m\u001b[0;34m\u001b[0m\u001b[0;34m\u001b[0m\u001b[0m\n\u001b[0m",
            "\u001b[0;32m/usr/local/lib/python3.6/dist-packages/sklearn/ensemble/_forest.py\u001b[0m in \u001b[0;36mpredict\u001b[0;34m(self, X)\u001b[0m\n\u001b[1;32m    610\u001b[0m             \u001b[0mThe\u001b[0m \u001b[0mpredicted\u001b[0m \u001b[0mclasses\u001b[0m\u001b[0;34m.\u001b[0m\u001b[0;34m\u001b[0m\u001b[0;34m\u001b[0m\u001b[0m\n\u001b[1;32m    611\u001b[0m         \"\"\"\n\u001b[0;32m--> 612\u001b[0;31m         \u001b[0mproba\u001b[0m \u001b[0;34m=\u001b[0m \u001b[0mself\u001b[0m\u001b[0;34m.\u001b[0m\u001b[0mpredict_proba\u001b[0m\u001b[0;34m(\u001b[0m\u001b[0mX\u001b[0m\u001b[0;34m)\u001b[0m\u001b[0;34m\u001b[0m\u001b[0;34m\u001b[0m\u001b[0m\n\u001b[0m\u001b[1;32m    613\u001b[0m \u001b[0;34m\u001b[0m\u001b[0m\n\u001b[1;32m    614\u001b[0m         \u001b[0;32mif\u001b[0m \u001b[0mself\u001b[0m\u001b[0;34m.\u001b[0m\u001b[0mn_outputs_\u001b[0m \u001b[0;34m==\u001b[0m \u001b[0;36m1\u001b[0m\u001b[0;34m:\u001b[0m\u001b[0;34m\u001b[0m\u001b[0;34m\u001b[0m\u001b[0m\n",
            "\u001b[0;32m/usr/local/lib/python3.6/dist-packages/sklearn/ensemble/_forest.py\u001b[0m in \u001b[0;36mpredict_proba\u001b[0;34m(self, X)\u001b[0m\n\u001b[1;32m    654\u001b[0m         \u001b[0mcheck_is_fitted\u001b[0m\u001b[0;34m(\u001b[0m\u001b[0mself\u001b[0m\u001b[0;34m)\u001b[0m\u001b[0;34m\u001b[0m\u001b[0;34m\u001b[0m\u001b[0m\n\u001b[1;32m    655\u001b[0m         \u001b[0;31m# Check data\u001b[0m\u001b[0;34m\u001b[0m\u001b[0;34m\u001b[0m\u001b[0;34m\u001b[0m\u001b[0m\n\u001b[0;32m--> 656\u001b[0;31m         \u001b[0mX\u001b[0m \u001b[0;34m=\u001b[0m \u001b[0mself\u001b[0m\u001b[0;34m.\u001b[0m\u001b[0m_validate_X_predict\u001b[0m\u001b[0;34m(\u001b[0m\u001b[0mX\u001b[0m\u001b[0;34m)\u001b[0m\u001b[0;34m\u001b[0m\u001b[0;34m\u001b[0m\u001b[0m\n\u001b[0m\u001b[1;32m    657\u001b[0m \u001b[0;34m\u001b[0m\u001b[0m\n\u001b[1;32m    658\u001b[0m         \u001b[0;31m# Assign chunk of trees to jobs\u001b[0m\u001b[0;34m\u001b[0m\u001b[0;34m\u001b[0m\u001b[0;34m\u001b[0m\u001b[0m\n",
            "\u001b[0;32m/usr/local/lib/python3.6/dist-packages/sklearn/ensemble/_forest.py\u001b[0m in \u001b[0;36m_validate_X_predict\u001b[0;34m(self, X)\u001b[0m\n\u001b[1;32m    410\u001b[0m         \u001b[0mcheck_is_fitted\u001b[0m\u001b[0;34m(\u001b[0m\u001b[0mself\u001b[0m\u001b[0;34m)\u001b[0m\u001b[0;34m\u001b[0m\u001b[0;34m\u001b[0m\u001b[0m\n\u001b[1;32m    411\u001b[0m \u001b[0;34m\u001b[0m\u001b[0m\n\u001b[0;32m--> 412\u001b[0;31m         \u001b[0;32mreturn\u001b[0m \u001b[0mself\u001b[0m\u001b[0;34m.\u001b[0m\u001b[0mestimators_\u001b[0m\u001b[0;34m[\u001b[0m\u001b[0;36m0\u001b[0m\u001b[0;34m]\u001b[0m\u001b[0;34m.\u001b[0m\u001b[0m_validate_X_predict\u001b[0m\u001b[0;34m(\u001b[0m\u001b[0mX\u001b[0m\u001b[0;34m,\u001b[0m \u001b[0mcheck_input\u001b[0m\u001b[0;34m=\u001b[0m\u001b[0;32mTrue\u001b[0m\u001b[0;34m)\u001b[0m\u001b[0;34m\u001b[0m\u001b[0;34m\u001b[0m\u001b[0m\n\u001b[0m\u001b[1;32m    413\u001b[0m \u001b[0;34m\u001b[0m\u001b[0m\n\u001b[1;32m    414\u001b[0m     \u001b[0;34m@\u001b[0m\u001b[0mproperty\u001b[0m\u001b[0;34m\u001b[0m\u001b[0;34m\u001b[0m\u001b[0m\n",
            "\u001b[0;32m/usr/local/lib/python3.6/dist-packages/sklearn/tree/_classes.py\u001b[0m in \u001b[0;36m_validate_X_predict\u001b[0;34m(self, X, check_input)\u001b[0m\n\u001b[1;32m    389\u001b[0m                              \u001b[0;34m\"match the input. Model n_features is %s and \"\u001b[0m\u001b[0;34m\u001b[0m\u001b[0;34m\u001b[0m\u001b[0m\n\u001b[1;32m    390\u001b[0m                              \u001b[0;34m\"input n_features is %s \"\u001b[0m\u001b[0;34m\u001b[0m\u001b[0;34m\u001b[0m\u001b[0m\n\u001b[0;32m--> 391\u001b[0;31m                              % (self.n_features_, n_features))\n\u001b[0m\u001b[1;32m    392\u001b[0m \u001b[0;34m\u001b[0m\u001b[0m\n\u001b[1;32m    393\u001b[0m         \u001b[0;32mreturn\u001b[0m \u001b[0mX\u001b[0m\u001b[0;34m\u001b[0m\u001b[0;34m\u001b[0m\u001b[0m\n",
            "\u001b[0;31mValueError\u001b[0m: Number of features of the model must match the input. Model n_features is 210 and input n_features is 110 "
          ]
        }
      ]
    },
    {
      "cell_type": "code",
      "metadata": {
        "id": "-TQLOmORjpcS",
        "colab_type": "code",
        "colab": {}
      },
      "source": [
        ""
      ],
      "execution_count": 0,
      "outputs": []
    }
  ]
}