{
  "nbformat": 4,
  "nbformat_minor": 0,
  "metadata": {
    "kernelspec": {
      "name": "python3",
      "display_name": "Python 3"
    },
    "language_info": {
      "codemirror_mode": {
        "name": "ipython",
        "version": 3
      },
      "file_extension": ".py",
      "mimetype": "text/x-python",
      "name": "python",
      "nbconvert_exporter": "python",
      "pygments_lexer": "ipython3",
      "version": "3.6.8"
    },
    "colab": {
      "name": "assignment_5.ipynb",
      "provenance": []
    },
    "accelerator": "GPU"
  },
  "cells": [
    {
      "cell_type": "markdown",
      "metadata": {
        "id": "LbpNGiM3OxTK",
        "colab_type": "text"
      },
      "source": [
        "*Kirill Semenov, bkl162*\n",
        "\n",
        "# Assignment 5\n",
        "\n",
        "Build CNN model for sentiment analysis (binary classification) of IMDB Reviews (https://www.kaggle.com/utathya/imdb-review-dataset).\n",
        "You can use data with label=\"unsup\" for pretraining of embeddings. Here you are forbidden to use test dataset for pretraining of embeddings.  \n",
        "Your quality metric is accuracy score on test dataset. Look at \"type\" column for  train/test split.  \n",
        "You can use pretrained embeddings from external sources.  \n",
        "You have to provide data for trials with different hyperparameter values.  \n",
        "\n",
        "You have to beat following baselines:  \n",
        "[3 points] acc = 0.75  \n",
        "[5 points] acc = 0.8  \n",
        "[8 points] acc = 0.9  \n",
        "\n",
        "[2 points] for using unsupervised data  "
      ]
    },
    {
      "cell_type": "markdown",
      "metadata": {
        "id": "IBAZkWkUU8BL",
        "colab_type": "text"
      },
      "source": [
        "## Installing libs"
      ]
    },
    {
      "cell_type": "code",
      "metadata": {
        "id": "8XdnrAiHAlZC",
        "colab_type": "code",
        "colab": {}
      },
      "source": [
        "import torch\n",
        "from torchtext import data, datasets\n",
        "import random\n",
        "import numpy as np\n",
        "\n",
        "import torch.nn as nn\n",
        "import torch.nn.functional as F\n",
        "\n",
        "import torch.optim as optim\n",
        "\n",
        "SEED = 42\n",
        "\n",
        "random.seed(SEED)\n",
        "np.random.seed(SEED)\n",
        "torch.manual_seed(SEED)\n",
        "torch.backends.cudnn.deterministic = True\n",
        "\n"
      ],
      "execution_count": 0,
      "outputs": []
    },
    {
      "cell_type": "markdown",
      "metadata": {
        "id": "m-z-47awUOAr",
        "colab_type": "text"
      },
      "source": [
        "## downloading dataset (analogous to that in kaggle, but from torchtext.datasets)"
      ]
    },
    {
      "cell_type": "code",
      "metadata": {
        "id": "kL5wTK6rUIyP",
        "colab_type": "code",
        "colab": {}
      },
      "source": [
        "TEXT = data.Field(tokenize = 'spacy', batch_first = True)\n",
        "LABEL = data.LabelField(dtype = torch.float)\n",
        "\n",
        "train_data, test_data = datasets.IMDB.splits(TEXT, LABEL)\n",
        "\n",
        "train_data, valid_data = train_data.split(random_state = random.seed(SEED))"
      ],
      "execution_count": 0,
      "outputs": []
    },
    {
      "cell_type": "markdown",
      "metadata": {
        "id": "-kstrLXFVHoI",
        "colab_type": "text"
      },
      "source": [
        "## Downloading pretrained vectors"
      ]
    },
    {
      "cell_type": "code",
      "metadata": {
        "id": "c2c-ZOhpApuV",
        "colab_type": "code",
        "colab": {}
      },
      "source": [
        "MAX_VOCAB_SIZE = 30000\n",
        "\n",
        "TEXT.build_vocab(train_data, max_size = MAX_VOCAB_SIZE, \n",
        "                 vectors = \"glove.6B.100d\", \n",
        "                 unk_init = torch.Tensor.normal_)\n",
        "\n",
        "LABEL.build_vocab(train_data)"
      ],
      "execution_count": 0,
      "outputs": []
    },
    {
      "cell_type": "code",
      "metadata": {
        "id": "soWjUCc-A2Uf",
        "colab_type": "code",
        "colab": {}
      },
      "source": [
        "BATCH_SIZE = 64\n",
        "\n",
        "device = torch.device('cuda' if torch.cuda.is_available() else 'cpu')\n",
        "\n",
        "train_iterator, valid_iterator, test_iterator = data.BucketIterator.splits(\n",
        "    (train_data, valid_data, test_data), \n",
        "    batch_size = BATCH_SIZE, \n",
        "    device = device)"
      ],
      "execution_count": 0,
      "outputs": []
    },
    {
      "cell_type": "markdown",
      "metadata": {
        "id": "KXeTTNDEWJvw",
        "colab_type": "text"
      },
      "source": [
        "## Making model"
      ]
    },
    {
      "cell_type": "code",
      "metadata": {
        "id": "BGQ4hxuaBD58",
        "colab_type": "code",
        "colab": {}
      },
      "source": [
        "class CNN(nn.Module):\n",
        "    def __init__(self, vocab_size, embedding_dim, n_filters, filter_sizes, output_dim, \n",
        "                 dropout, pad_idx):\n",
        "        \n",
        "        super().__init__()\n",
        "        \n",
        "        self.embedding = nn.Embedding(vocab_size, embedding_dim, padding_idx = pad_idx)\n",
        "        \n",
        "        self.conv_layer_0 = nn.Conv2d(in_channels = 1, out_channels = n_filters, kernel_size = (filter_sizes[0], embedding_dim))\n",
        "        \n",
        "        self.conv_layer_1 = nn.Conv2d(in_channels = 1, out_channels = n_filters, kernel_size = (filter_sizes[1], embedding_dim))\n",
        "        \n",
        "        self.conv_layer_2 = nn.Conv2d(in_channels = 1, out_channels = n_filters, kernel_size = (filter_sizes[2], embedding_dim))\n",
        "        \n",
        "        self.fc = nn.Linear(len(filter_sizes) * n_filters, output_dim)\n",
        "        \n",
        "        self.dropout = nn.Dropout(dropout)\n",
        "\n",
        "        \n",
        "    def forward(self, text):\n",
        "                        \n",
        "        embedded = self.embedding(text)        \n",
        "        embedded = embedded.unsqueeze(1)\n",
        "                \n",
        "        convolled_0 = F.relu(self.conv_layer_0(embedded).squeeze(3))\n",
        "        convolled_1 = F.relu(self.conv_layer_1(embedded).squeeze(3))\n",
        "        convolled_2 = F.relu(self.conv_layer_2(embedded).squeeze(3))\n",
        "                    \n",
        "        pooled_0 = F.max_pool1d(convolled_0, convolled_0.shape[2]).squeeze(2)\n",
        "        pooled_1 = F.max_pool1d(convolled_1, convolled_1.shape[2]).squeeze(2)\n",
        "        pooled_2 = F.max_pool1d(convolled_2, convolled_2.shape[2]).squeeze(2)\n",
        "                \n",
        "        cat = self.dropout(torch.cat((pooled_0, pooled_1, pooled_2), dim = 1))\n",
        "            \n",
        "        return self.fc(cat)"
      ],
      "execution_count": 0,
      "outputs": []
    },
    {
      "cell_type": "markdown",
      "metadata": {
        "id": "RBsi2K1JWRx8",
        "colab_type": "text"
      },
      "source": [
        "## Trying hyperparams"
      ]
    },
    {
      "cell_type": "code",
      "metadata": {
        "id": "dRqh5eUzPq-X",
        "colab_type": "code",
        "colab": {}
      },
      "source": [
        "INPUT_DIM = len(TEXT.vocab)\n",
        "EMBEDDING_DIM = 100\n",
        "N_FILTERS = 100\n",
        "FILTER_SIZES = [3,4,5]\n",
        "OUTPUT_DIM = 1\n",
        "DROPOUT = 0.25\n",
        "PAD_IDX = TEXT.vocab.stoi[TEXT.pad_token]\n",
        "\n",
        "model = CNN(INPUT_DIM, EMBEDDING_DIM, N_FILTERS, FILTER_SIZES, OUTPUT_DIM, DROPOUT, PAD_IDX)"
      ],
      "execution_count": 0,
      "outputs": []
    },
    {
      "cell_type": "code",
      "metadata": {
        "id": "3-9LvLV8P1Lz",
        "colab_type": "code",
        "outputId": "8fa482b8-e909-4a3f-824d-6b9d9aa6a3ad",
        "colab": {
          "base_uri": "https://localhost:8080/",
          "height": 141
        }
      },
      "source": [
        "\n",
        "pretrained_embeddings = TEXT.vocab.vectors\n",
        "\n",
        "model.embedding.weight.data.copy_(pretrained_embeddings)"
      ],
      "execution_count": 0,
      "outputs": [
        {
          "output_type": "execute_result",
          "data": {
            "text/plain": [
              "tensor([[ 1.9269,  1.4873,  0.9007,  ...,  0.1233,  0.3499,  0.6173],\n",
              "        [ 0.7262,  0.0912, -0.3891,  ...,  0.0821,  0.4440, -0.7240],\n",
              "        [-0.0382, -0.2449,  0.7281,  ..., -0.1459,  0.8278,  0.2706],\n",
              "        ...,\n",
              "        [-2.2970,  1.1119,  0.7589,  ...,  0.1428, -0.0703, -1.2786],\n",
              "        [-0.5917, -0.0553,  0.9989,  ..., -0.3378, -0.2986, -1.0236],\n",
              "        [-0.4220, -1.6393,  0.1731,  ..., -0.6083, -0.4398,  1.9571]])"
            ]
          },
          "metadata": {
            "tags": []
          },
          "execution_count": 31
        }
      ]
    },
    {
      "cell_type": "code",
      "metadata": {
        "id": "EJQB1u4RP4aq",
        "colab_type": "code",
        "colab": {}
      },
      "source": [
        "UNK_IDX = TEXT.vocab.stoi[TEXT.unk_token]\n",
        "\n",
        "model.embedding.weight.data[UNK_IDX] = torch.zeros(EMBEDDING_DIM)\n",
        "model.embedding.weight.data[PAD_IDX] = torch.zeros(EMBEDDING_DIM)"
      ],
      "execution_count": 0,
      "outputs": []
    },
    {
      "cell_type": "markdown",
      "metadata": {
        "id": "4izB2DI7eSgp",
        "colab_type": "text"
      },
      "source": [
        "## Making metrics"
      ]
    },
    {
      "cell_type": "code",
      "metadata": {
        "id": "Q3q2iKDURKCx",
        "colab_type": "code",
        "colab": {}
      },
      "source": [
        "optimizer = optim.Adam(model.parameters())\n",
        "\n",
        "criterion = nn.BCEWithLogitsLoss()\n",
        "\n",
        "model = model.to(device)\n",
        "criterion = criterion.to(device)"
      ],
      "execution_count": 0,
      "outputs": []
    },
    {
      "cell_type": "code",
      "metadata": {
        "id": "sGuA6XO9RMX6",
        "colab_type": "code",
        "colab": {}
      },
      "source": [
        "def bin_acc(preds, y): #binary_accuracy\n",
        "\n",
        "    rounded_preds = torch.round(torch.sigmoid(preds))\n",
        "    correct = (rounded_preds == y).float()\n",
        "\n",
        "    correct_sum = correct.sum()\n",
        "    n_correct = len(correct)\n",
        "\n",
        "    acc = correct_sum / n_correct\n",
        "\n",
        "    return acc"
      ],
      "execution_count": 0,
      "outputs": []
    },
    {
      "cell_type": "markdown",
      "metadata": {
        "id": "VcU4q158eV3V",
        "colab_type": "text"
      },
      "source": [
        "## Making `train` and `evaluation` functions"
      ]
    },
    {
      "cell_type": "code",
      "metadata": {
        "id": "bKz5MOgdRRX5",
        "colab_type": "code",
        "colab": {}
      },
      "source": [
        "def train(model, iterator, optimizer, criterion):\n",
        "    \n",
        "    epoch_loss, epoch_acc = 0, 0\n",
        "    \n",
        "    model.train()\n",
        "    \n",
        "    for batch in iterator:\n",
        "        \n",
        "        optimizer.zero_grad()\n",
        "        \n",
        "        predictions = model(batch.text).squeeze(1)\n",
        "        \n",
        "        loss = criterion(predictions, batch.label)\n",
        "        \n",
        "        acc = bin_acc(predictions, batch.label)\n",
        "        \n",
        "        loss.backward()\n",
        "        \n",
        "        optimizer.step()\n",
        "        \n",
        "        epoch_loss += loss.item()\n",
        "        epoch_acc += acc.item()\n",
        "        \n",
        "    return epoch_loss / len(iterator), epoch_acc / len(iterator)\n",
        "\n",
        "\n",
        "def evaluate(model, iterator, criterion):\n",
        "    \n",
        "    epoch_loss, epoch_acc = 0, 0\n",
        "    \n",
        "    model.eval()\n",
        "    \n",
        "    with torch.no_grad():\n",
        "    \n",
        "        for batch in iterator:\n",
        "\n",
        "            predictions = model(batch.text).squeeze(1)\n",
        "            \n",
        "            loss = criterion(predictions, batch.label)\n",
        "            \n",
        "            acc = bin_acc(predictions, batch.label)\n",
        "\n",
        "            epoch_loss += loss.item()\n",
        "            epoch_acc += acc.item()\n",
        "        \n",
        "    return epoch_loss / len(iterator), epoch_acc / len(iterator)"
      ],
      "execution_count": 0,
      "outputs": []
    },
    {
      "cell_type": "markdown",
      "metadata": {
        "id": "Krw3PYwHpLbk",
        "colab_type": "text"
      },
      "source": [
        "## Learning"
      ]
    },
    {
      "cell_type": "code",
      "metadata": {
        "id": "SdYSbmRERbBV",
        "colab_type": "code",
        "outputId": "182cfee8-49cf-4a4f-b0de-c35f86b1767e",
        "colab": {
          "base_uri": "https://localhost:8080/",
          "height": 283
        }
      },
      "source": [
        "N_EPOCHS = 5\n",
        "\n",
        "best_valid_loss = float('inf')\n",
        "\n",
        "for epoch in range(N_EPOCHS):\n",
        "    \n",
        "    train_loss, train_acc = train(model, train_iterator, optimizer, criterion)\n",
        "    valid_loss, valid_acc = evaluate(model, valid_iterator, criterion)\n",
        "    \n",
        "\n",
        "    \n",
        "    if valid_loss < best_valid_loss:\n",
        "        best_valid_loss = valid_loss\n",
        "        torch.save(model.state_dict(), 'tut4-model.pt')\n",
        "    \n",
        "    print(f'Epoch: {epoch+1:02}')\n",
        "    print(f'\\tTrain Loss: {train_loss:.3f} | Train Acc: {train_acc*100:.2f}%')\n",
        "    print(f'\\t Val. Loss: {valid_loss:.3f} |  Val. Acc: {valid_acc*100:.2f}%')"
      ],
      "execution_count": 0,
      "outputs": [
        {
          "output_type": "stream",
          "text": [
            "Epoch: 01\n",
            "\tTrain Loss: 0.606 | Train Acc: 65.93%\n",
            "\t Val. Loss: 0.434 |  Val. Acc: 80.91%\n",
            "Epoch: 02\n",
            "\tTrain Loss: 0.358 | Train Acc: 84.34%\n",
            "\t Val. Loss: 0.328 |  Val. Acc: 85.73%\n",
            "Epoch: 03\n",
            "\tTrain Loss: 0.232 | Train Acc: 90.90%\n",
            "\t Val. Loss: 0.297 |  Val. Acc: 87.09%\n",
            "Epoch: 04\n",
            "\tTrain Loss: 0.151 | Train Acc: 94.74%\n",
            "\t Val. Loss: 0.299 |  Val. Acc: 87.32%\n",
            "Epoch: 05\n",
            "\tTrain Loss: 0.089 | Train Acc: 97.17%\n",
            "\t Val. Loss: 0.322 |  Val. Acc: 87.11%\n"
          ],
          "name": "stdout"
        }
      ]
    },
    {
      "cell_type": "markdown",
      "metadata": {
        "id": "mxXwDWafpNUZ",
        "colab_type": "text"
      },
      "source": [
        "## Testing"
      ]
    },
    {
      "cell_type": "code",
      "metadata": {
        "id": "U1nu2DIqRe4U",
        "colab_type": "code",
        "outputId": "a442b9d0-7450-4964-bd1a-58e7297a0866",
        "colab": {
          "base_uri": "https://localhost:8080/",
          "height": 34
        }
      },
      "source": [
        "model.load_state_dict(torch.load('tut4-model.pt'))\n",
        "\n",
        "test_loss, test_acc = evaluate(model, test_iterator, criterion)\n",
        "\n",
        "print(f'Test Loss: {test_loss:.3f} | Test Acc: {test_acc*100:.2f}%')"
      ],
      "execution_count": 0,
      "outputs": [
        {
          "output_type": "stream",
          "text": [
            "Test Loss: 0.365 | Test Acc: 85.75%\n"
          ],
          "name": "stdout"
        }
      ]
    },
    {
      "cell_type": "code",
      "metadata": {
        "id": "qDrIg9qIRmB7",
        "colab_type": "code",
        "colab": {}
      },
      "source": [
        ""
      ],
      "execution_count": 0,
      "outputs": []
    }
  ]
}