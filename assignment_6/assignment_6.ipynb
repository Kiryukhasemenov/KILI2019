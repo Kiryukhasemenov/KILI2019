{
  "nbformat": 4,
  "nbformat_minor": 0,
  "metadata": {
    "colab": {
      "name": "assignment_6.ipynb",
      "provenance": [],
      "collapsed_sections": []
    },
    "kernelspec": {
      "name": "python3",
      "display_name": "Python 3"
    },
    "accelerator": "GPU"
  },
  "cells": [
    {
      "cell_type": "markdown",
      "metadata": {
        "id": "H0cJyOh-wP_0",
        "colab_type": "text"
      },
      "source": [
        "*Kirill Semenov, bkl162*\n",
        "\n",
        "# Assignment 6\n",
        "\n",
        "[3 points] Delelop language model, which generates texts from wikipedia.   \n",
        "Use WikiText-2 dataset, also available in `torchtext.datasets`.  \n",
        "Use `sentencepiece` or `tokenizers` library for text tokenization. Pay attention to vocab size, probably subword tokens are better.    \n",
        "Your model should be autogressive RNN.  \n",
        "[1 point] Plot train and validation loss depending on the number of iterations of gradient decent.  \n",
        "[1 point] Try to use together (`sentencepiece` or `tokenizers`), `torchtext.datasets`, and `torchtext.data.BPTTIterator`  \n",
        "\n",
        "Text generation should be terminated when either max length is reached or terminal symbol is generated.  \n",
        "Explore several inference techniques:\n",
        "1. [1 point] Argmax\n",
        "1. [1 point] Beamsearch\n",
        "1. [1 point] Sampling from probabilty distribution with temperature\n",
        "1. [1 point] Nucleus sampling\n",
        "1. [1 point] Top-k sampling\n",
        "\n",
        "\n",
        "For every method you should provide implemented code and generated examples. Each example must contain at least 10 words (not subword tokens).\n",
        "\n",
        "Readings:\n",
        "https://arxiv.org/abs/1904.09751"
      ]
    },
    {
      "cell_type": "markdown",
      "metadata": {
        "id": "zKy9WxWvwgRf",
        "colab_type": "text"
      },
      "source": [
        "## For Google colab"
      ]
    },
    {
      "cell_type": "code",
      "metadata": {
        "id": "TLDLkqbe7Lrb",
        "colab_type": "code",
        "outputId": "06258391-2729-4778-b417-ecdb73ffb853",
        "colab": {
          "base_uri": "https://localhost:8080/",
          "height": 34
        }
      },
      "source": [
        "from google.colab import drive\n",
        "drive.mount('/content/drive')"
      ],
      "execution_count": 1,
      "outputs": [
        {
          "output_type": "stream",
          "text": [
            "Drive already mounted at /content/drive; to attempt to forcibly remount, call drive.mount(\"/content/drive\", force_remount=True).\n"
          ],
          "name": "stdout"
        }
      ]
    },
    {
      "cell_type": "markdown",
      "metadata": {
        "id": "HxkHytXS5fbt",
        "colab_type": "text"
      },
      "source": [
        "## Downloading all we need"
      ]
    },
    {
      "cell_type": "code",
      "metadata": {
        "id": "-P5gH8cN5nXO",
        "colab_type": "code",
        "outputId": "2a6eb9e1-4424-4400-a383-82060aff2a3b",
        "colab": {
          "base_uri": "https://localhost:8080/",
          "height": 34
        }
      },
      "source": [
        "!pip install sentencepiece"
      ],
      "execution_count": 2,
      "outputs": [
        {
          "output_type": "stream",
          "text": [
            "Requirement already satisfied: sentencepiece in /usr/local/lib/python3.6/dist-packages (0.1.85)\n"
          ],
          "name": "stdout"
        }
      ]
    },
    {
      "cell_type": "code",
      "metadata": {
        "id": "7dz-qt75eIHS",
        "colab_type": "code",
        "colab": {}
      },
      "source": [
        "import torch\n",
        "from torch import nn\n",
        "from torch import functional as F\n",
        "\n",
        "import torchtext\n",
        "from torchtext.datasets import WikiText2\n",
        "from torchtext import data\n",
        "\n",
        "import numpy as np\n",
        "\n",
        "import sentencepiece as spm"
      ],
      "execution_count": 0,
      "outputs": []
    },
    {
      "cell_type": "code",
      "metadata": {
        "id": "l3ihRWZgQ-J-",
        "colab_type": "code",
        "outputId": "d12270e1-5ebd-4294-e244-a5d5eed42ef3",
        "colab": {
          "base_uri": "https://localhost:8080/",
          "height": 34
        }
      },
      "source": [
        "WikiText2.download('.')"
      ],
      "execution_count": 4,
      "outputs": [
        {
          "output_type": "execute_result",
          "data": {
            "text/plain": [
              "'./wikitext-2/wikitext-2'"
            ]
          },
          "metadata": {
            "tags": []
          },
          "execution_count": 4
        }
      ]
    },
    {
      "cell_type": "code",
      "metadata": {
        "id": "kdFpj22tjueJ",
        "colab_type": "code",
        "outputId": "047ceda5-5762-434d-ef62-8cd32e7fbefc",
        "colab": {
          "base_uri": "https://localhost:8080/",
          "height": 34
        }
      },
      "source": [
        "device = torch.device('cuda:0' if torch.cuda.is_available() else 'cpu')\n",
        "print(device)"
      ],
      "execution_count": 4,
      "outputs": [
        {
          "output_type": "stream",
          "text": [
            "cuda:0\n"
          ],
          "name": "stdout"
        }
      ]
    },
    {
      "cell_type": "markdown",
      "metadata": {
        "id": "Vaj-9drAfDl0",
        "colab_type": "text"
      },
      "source": [
        "##Setting Hyperparams"
      ]
    },
    {
      "cell_type": "code",
      "metadata": {
        "id": "M-_sbGid80hR",
        "colab_type": "code",
        "colab": {}
      },
      "source": [
        "VOCAB_SIZE = 16000\n",
        "BATCH_SIZE = 512\n",
        "HIDDEN_SIZE = 512\n",
        "BPTT_LEN = 50\n",
        "N_EPOCHS = 50\n",
        "\n",
        "checkpoint = 'rnn_lm.pt'"
      ],
      "execution_count": 0,
      "outputs": []
    },
    {
      "cell_type": "code",
      "metadata": {
        "id": "jzHII23kSo8h",
        "colab_type": "code",
        "outputId": "cdb94bb5-117c-4e31-c11d-e7f5e55e15c1",
        "colab": {
          "base_uri": "https://localhost:8080/",
          "height": 34
        }
      },
      "source": [
        "spm.SentencePieceTrainer.Train('--input=wikitext-2/wikitext-2/wiki.train.tokens --model_prefix=spm --vocab_size='+str(VOCAB_SIZE))"
      ],
      "execution_count": 6,
      "outputs": [
        {
          "output_type": "execute_result",
          "data": {
            "text/plain": [
              "True"
            ]
          },
          "metadata": {
            "tags": []
          },
          "execution_count": 6
        }
      ]
    },
    {
      "cell_type": "code",
      "metadata": {
        "id": "QLEh6X0FyodG",
        "colab_type": "code",
        "outputId": "6c80ed49-bbd5-4b61-bbcb-f7ff19da8e69",
        "colab": {
          "base_uri": "https://localhost:8080/",
          "height": 34
        }
      },
      "source": [
        "sp = spm.SentencePieceProcessor()\n",
        "sp.Load(\"spm.model\")"
      ],
      "execution_count": 7,
      "outputs": [
        {
          "output_type": "execute_result",
          "data": {
            "text/plain": [
              "True"
            ]
          },
          "metadata": {
            "tags": []
          },
          "execution_count": 7
        }
      ]
    },
    {
      "cell_type": "code",
      "metadata": {
        "id": "OGIvHPJwyb1B",
        "colab_type": "code",
        "colab": {}
      },
      "source": [
        "TEXT = torchtext.data.Field(lower=True, tokenize=sp.EncodeAsPieces)"
      ],
      "execution_count": 0,
      "outputs": []
    },
    {
      "cell_type": "code",
      "metadata": {
        "id": "mFG62pVthobW",
        "colab_type": "code",
        "colab": {}
      },
      "source": [
        "train, valid, test = torchtext.datasets.WikiText2.splits(TEXT)"
      ],
      "execution_count": 0,
      "outputs": []
    },
    {
      "cell_type": "code",
      "metadata": {
        "id": "OKH_yewn2dqX",
        "colab_type": "code",
        "colab": {}
      },
      "source": [
        "TEXT.build_vocab(train, max_size=VOCAB_SIZE+10)"
      ],
      "execution_count": 0,
      "outputs": []
    },
    {
      "cell_type": "markdown",
      "metadata": {
        "id": "WnTG13AWe-lq",
        "colab_type": "text"
      },
      "source": [
        "## Tricking out BPTT"
      ]
    },
    {
      "cell_type": "code",
      "metadata": {
        "id": "tER9au71zchX",
        "colab_type": "code",
        "colab": {}
      },
      "source": [
        "train_iter, valid_iter, test_iter = data.BPTTIterator.splits(\n",
        "    (train, valid, test),\n",
        "    batch_size=BATCH_SIZE,\n",
        "    bptt_len=BPTT_LEN,\n",
        "    device=device,\n",
        "    repeat=False)"
      ],
      "execution_count": 0,
      "outputs": []
    },
    {
      "cell_type": "markdown",
      "metadata": {
        "id": "plRTZKMZFn7f",
        "colab_type": "text"
      },
      "source": [
        "## Model"
      ]
    },
    {
      "cell_type": "code",
      "metadata": {
        "id": "gLSWVJvcgGfw",
        "colab_type": "code",
        "colab": {}
      },
      "source": [
        "class RnnWithHeadLM(nn.Module):\n",
        "\n",
        "    def __init__(self, ntoken, ninp,\n",
        "                 nhid, nlayers,\n",
        "                 dropout=0.5, tie_weights=True):\n",
        "      \n",
        "        super().__init__()\n",
        "\n",
        "        self.nhid, self.nlayers = nhid, nlayers\n",
        "        self.drop = nn.Dropout(dropout)\n",
        "        self.encoder = nn.Embedding(ntoken, ninp)\n",
        "        self.rnn = nn.RNN(ninp, nhid, nlayers, dropout=dropout)\n",
        "        self.decoder = nn.Linear(nhid, ntoken)\n",
        "\n",
        "        self.hidden = None\n",
        " \n",
        "    def forward(self, input, hidden=None):\n",
        "\n",
        "        hidden = self.hidden if hidden is None else hidden\n",
        "        emb = self.drop(self.encoder(input))\n",
        "\n",
        "        output, hidden = self.rnn(emb, hidden)\n",
        "        self.hidden = hidden \n",
        "\n",
        "        output = self.drop(output)\n",
        "        decoded = self.decoder(output.view(output.size(0)*output.size(1), output.size(2)))\n",
        "\n",
        "        v = decoded.view(output.size(0), output.size(1), decoded.size(1))\n",
        "        return v\n",
        "  \n",
        "    def reset_history(self):\n",
        "\n",
        "        if self.hidden is None:\n",
        "            return None\n",
        "            \n",
        "        self.hidden = self.hidden.data"
      ],
      "execution_count": 0,
      "outputs": []
    },
    {
      "cell_type": "code",
      "metadata": {
        "id": "OrmAJYrk0QlL",
        "colab_type": "code",
        "outputId": "7d33d82e-6e47-420b-8780-1498b4d6cafc",
        "colab": {
          "base_uri": "https://localhost:8080/",
          "height": 173
        }
      },
      "source": [
        "model = RnnWithHeadLM(VOCAB_SIZE, HIDDEN_SIZE, HIDDEN_SIZE, 1)\n",
        "model.to(device)"
      ],
      "execution_count": 13,
      "outputs": [
        {
          "output_type": "stream",
          "text": [
            "/usr/local/lib/python3.6/dist-packages/torch/nn/modules/rnn.py:51: UserWarning: dropout option adds dropout after all but last recurrent layer, so non-zero dropout expects num_layers greater than 1, but got dropout=0.5 and num_layers=1\n",
            "  \"num_layers={}\".format(dropout, num_layers))\n"
          ],
          "name": "stderr"
        },
        {
          "output_type": "execute_result",
          "data": {
            "text/plain": [
              "RnnWithHeadLM(\n",
              "  (drop): Dropout(p=0.5, inplace=False)\n",
              "  (encoder): Embedding(16000, 512)\n",
              "  (rnn): RNN(512, 512, dropout=0.5)\n",
              "  (decoder): Linear(in_features=512, out_features=16000, bias=True)\n",
              ")"
            ]
          },
          "metadata": {
            "tags": []
          },
          "execution_count": 13
        }
      ]
    },
    {
      "cell_type": "code",
      "metadata": {
        "id": "cJItmIMy011o",
        "colab_type": "code",
        "colab": {}
      },
      "source": [
        "criterion = nn.CrossEntropyLoss()\n",
        "optimizer = torch.optim.Adam(model.parameters(), lr=1e-3)"
      ],
      "execution_count": 0,
      "outputs": []
    },
    {
      "cell_type": "code",
      "metadata": {
        "id": "EIMbW1Xt1fje",
        "colab_type": "code",
        "colab": {}
      },
      "source": [
        "def train_epoch(epoch):\n",
        "    tr_history = []\n",
        "    tr_loss = 0\n",
        "    model.train()\n",
        "    \n",
        "    for batch in train_iter:\n",
        "      model.reset_history()\n",
        "      optimizer.zero_grad()\n",
        "\n",
        "      text, targets = batch.text, batch.target\n",
        "      prediction = model(text)\n",
        "      loss = criterion(prediction.view(-1, VOCAB_SIZE), targets.view(-1))\n",
        "      loss.backward()\n",
        "\n",
        "      optimizer.step()\n",
        "\n",
        "      tr_history.append(loss.item())\n",
        "      tr_loss += loss.item() * prediction.size(0) * prediction.size(1)\n",
        "\n",
        "    tr_loss /= len(train.examples[0].text)\n",
        "\n",
        "    val_loss = 0\n",
        "    model.eval()\n",
        "    for batch in valid_iter:\n",
        "        model.reset_history()\n",
        "        text, targets = batch.text, batch.target\n",
        "        prediction = model(text)\n",
        "        loss = criterion(prediction.view(-1, VOCAB_SIZE), targets.view(-1))\n",
        "        val_loss += loss.item() * prediction.size(0) * prediction.size(1)\n",
        "    val_loss /= len(valid.examples[0].text)\n",
        "\n",
        "    return tr_loss, tr_history, val_loss"
      ],
      "execution_count": 0,
      "outputs": []
    },
    {
      "cell_type": "code",
      "metadata": {
        "id": "4bEK3ms_lAiv",
        "colab_type": "code",
        "colab": {}
      },
      "source": [
        "checkpoint = None"
      ],
      "execution_count": 0,
      "outputs": []
    },
    {
      "cell_type": "code",
      "metadata": {
        "id": "bQ_2q7UJZTcX",
        "colab_type": "code",
        "colab": {}
      },
      "source": [
        "if checkpoint is not None:\n",
        "    check = torch.load(checkpoint)\n",
        "    model.load_state_dict(check['model'])\n",
        "    optimizer.load_state_dict(check['optimizer'])\n",
        "    tr_history = check['tr_history']\n",
        "    val_history = check['val_history']\n",
        "    epoch = check['epoch']\n",
        "else:\n",
        "    tr_history = []\n",
        "    val_history = []\n",
        "    epoch = 0"
      ],
      "execution_count": 0,
      "outputs": []
    },
    {
      "cell_type": "code",
      "metadata": {
        "id": "_rPHr0g92D9m",
        "colab_type": "code",
        "colab": {
          "base_uri": "https://localhost:8080/",
          "height": 34
        },
        "outputId": "13775f5e-aa88-41f8-ff6b-10f476691039"
      },
      "source": [
        "from matplotlib import pyplot as plt\n",
        "from IPython.display import clear_output\n",
        "\n",
        "for epoch in range(epoch, N_EPOCHS): \n",
        "    tr_loss, tr_hist, val_loss = train_epoch(epoch)\n",
        "    tr_history += tr_hist\n",
        "    val_history += [val_loss] \n",
        "    torch.save({\n",
        "        'model': model.state_dict(),\n",
        "        'optimizer': optimizer.state_dict(),\n",
        "        'tr_history': tr_history,\n",
        "        'val_history': val_history,\n",
        "        'epoch': epoch+1,\n",
        "    }, 'drive/My Drive/rnn_lm.pt')\n",
        "\n",
        "    clear_output()\n",
        "    print(f'Epoch: {epoch}, Training Loss: {tr_loss:.4f}, Validation Loss: {val_loss:.4f}')\n"
      ],
      "execution_count": 20,
      "outputs": [
        {
          "output_type": "stream",
          "text": [
            "Epoch: 49, Training Loss: 3.8876, Validation Loss: 3.6586\n"
          ],
          "name": "stdout"
        }
      ]
    },
    {
      "cell_type": "code",
      "metadata": {
        "id": "JoEIz0DXZzqD",
        "colab_type": "code",
        "outputId": "9dc7d8d1-1e95-4033-a1a8-0f4040725fef",
        "colab": {
          "base_uri": "https://localhost:8080/",
          "height": 296
        }
      },
      "source": [
        "from matplotlib import pyplot as plt\n",
        "\n",
        "plt.plot(tr_history, label='train loss')\n",
        "plt.plot([(i+1)*len(tr_hist) for i in range(len(val_history))], val_history, label='val loss')\n",
        "plt.xlabel('# iterations')\n",
        "plt.legend()"
      ],
      "execution_count": 21,
      "outputs": [
        {
          "output_type": "execute_result",
          "data": {
            "text/plain": [
              "<matplotlib.legend.Legend at 0x7f6a2bccfb38>"
            ]
          },
          "metadata": {
            "tags": []
          },
          "execution_count": 21
        },
        {
          "output_type": "display_data",
          "data": {
            "image/png": "[encoded data removed]",
            "text/plain": [
              "<Figure size 432x288 with 1 Axes>"
            ]
          },
          "metadata": {
            "tags": []
          }
        }
      ]
    },
    {
      "cell_type": "markdown",
      "metadata": {
        "id": "gULkVHnGeasm",
        "colab_type": "text"
      },
      "source": [
        "## Generation"
      ]
    },
    {
      "cell_type": "code",
      "metadata": {
        "id": "zNZGaA3FUTFE",
        "colab_type": "code",
        "colab": {}
      },
      "source": [
        "context_strs = ['East Asia was one of the cradles of world civilization, with China, an ancient East Asian civilization being one of the earliest cradles of civilization in human history.',\n",
        "                'Though not commonly used today, half-dollar coins have a long history of heavy use alongside other denominations of coinage, but have faded out of general circulation for many reasons.',\n",
        "                'Parliament approved the agreement for further scrutiny, but rejected passing it into law before 31 October deadline, and forced the government to ask for a third Brexit delay.',\n",
        "                'Ireland ranks among the top ten wealthiest countries in the world in terms of GDP per capita, and as the tenth most prosperous country in the world according to The Legatum Prosperity Index 2015.',\n",
        "                'His musical talent was obvious at an early age, and he was harshly and intensively taught by his father Johann van Beethoven, who thought this would enable him to become a child prodigy like Mozart.']"
      ],
      "execution_count": 0,
      "outputs": []
    },
    {
      "cell_type": "code",
      "metadata": {
        "id": "6Y4mdtE6UeEG",
        "colab_type": "code",
        "colab": {}
      },
      "source": [
        "context_pieces = [sp.EncodeAsPieces(x) for x in context_strs]"
      ],
      "execution_count": 0,
      "outputs": []
    },
    {
      "cell_type": "code",
      "metadata": {
        "id": "Zkz4DtUaUw04",
        "colab_type": "code",
        "colab": {}
      },
      "source": [
        "context_ids = [[TEXT.vocab.stoi[s] for s in x] for x in context_pieces]\n",
        "\n",
        "inps = [torch.LongTensor(x).unsqueeze(1).to(device) for x in context_ids]"
      ],
      "execution_count": 0,
      "outputs": []
    },
    {
      "cell_type": "code",
      "metadata": {
        "id": "cpoXEC2i2TMt",
        "colab_type": "code",
        "colab": {}
      },
      "source": [
        "def sample_sequence(model, context, sample_method, continuation_length=150):\n",
        "    continuation_length = context.size(0)\n",
        "    past = context\n",
        "    model.hidden = None\n",
        "\n",
        "    out = model(past.to(device))\n",
        "    next_token = sample_method(out[-1, :, :])\n",
        "    gen = next_token\n",
        "    past = torch.cat([past, next_token], 0)\n",
        "    for _ in range(continuation_length-1):\n",
        "        if next_token.item() == TEXT.vocab.stoi['<eos>']:\n",
        "          break\n",
        "        out = model(next_token)\n",
        "        next_token = sample_method(out[-1, :, :])\n",
        "        past = torch.cat([past, next_token], 0)\n",
        "        gen = torch.cat([gen, next_token], 0)\n",
        "    return past, gen"
      ],
      "execution_count": 0,
      "outputs": []
    },
    {
      "cell_type": "code",
      "metadata": {
        "id": "dEUzNbn3FdHN",
        "colab_type": "code",
        "colab": {}
      },
      "source": [
        "def continue_strs(inps, sample_method):\n",
        "    for i, inp in enumerate(inps):\n",
        "        str_gen = \"\"\n",
        "        while len(str_gen.split()) < 20:\n",
        "            cat, gen = sample_sequence(model, inp, sample_method)\n",
        "            str_gen = sp.DecodePieces([TEXT.vocab.itos[i] for i in gen[:, 0].tolist()])\n",
        "        print('Context: ', context_strs[i])\n",
        "        print('Continuation: ', sp.DecodePieces([TEXT.vocab.itos[i] for i in gen[:, 0].tolist()]))\n",
        "        print()"
      ],
      "execution_count": 0,
      "outputs": []
    },
    {
      "cell_type": "markdown",
      "metadata": {
        "id": "qoeW-zWBDqV6",
        "colab_type": "text"
      },
      "source": [
        "## Argmax"
      ]
    },
    {
      "cell_type": "markdown",
      "metadata": {
        "id": "SsrqtIzdtg_q",
        "colab_type": "text"
      },
      "source": [
        "## top-k sampling"
      ]
    },
    {
      "cell_type": "code",
      "metadata": {
        "id": "3wRLlQyLEGi1",
        "colab_type": "code",
        "colab": {}
      },
      "source": [
        "def top_k_top_p_sampling(logits, top_k=0, top_p=1.0, filter_value=-float(\"Inf\"), min_tokens_to_keep=1):\n",
        "    if top_k > 0:\n",
        "        top_k = min(max(top_k, min_tokens_to_keep), logits.size(-1))  # Safety check\n",
        "        indices_to_remove = logits < torch.topk(logits, top_k)[0][..., -1, None]\n",
        "        logits[indices_to_remove] = filter_value\n",
        "\n",
        "    if top_p < 1.0:\n",
        "        sorted_logits, sorted_indices = torch.sort(logits, descending=True)\n",
        "        cumulative_probs = torch.cumsum(nn.functional.softmax(sorted_logits, dim=-1), dim=-1)\n",
        "\n",
        "        sorted_indices_to_remove = cumulative_probs > top_p\n",
        "        if min_tokens_to_keep > 1:\n",
        "            sorted_indices_to_remove[..., :min_tokens_to_keep] = 0\n",
        "        sorted_indices_to_remove[..., 1:] = sorted_indices_to_remove[..., :-1].clone()\n",
        "        sorted_indices_to_remove[..., 0] = 0\n",
        "\n",
        "        indices_to_remove = sorted_indices_to_remove.scatter(1, sorted_indices, sorted_indices_to_remove)\n",
        "        logits[indices_to_remove] = filter_value\n",
        "    return torch.multinomial(torch.exp(logits), 1)"
      ],
      "execution_count": 0,
      "outputs": []
    },
    {
      "cell_type": "code",
      "metadata": {
        "id": "gkD3HAxGa2Cp",
        "colab_type": "code",
        "outputId": "50fb59b8-3754-4287-8506-1b09b724b4d4",
        "colab": {
          "base_uri": "https://localhost:8080/",
          "height": 1000
        }
      },
      "source": [
        "for k in [3, 5, 8, 10, 14, 20]:\n",
        "    print(f'\\n=== k = {k} ===\\n')\n",
        "    method = lambda x: top_k_top_p_sampling(x, top_k=k)\n",
        "    continue_strs(inps, method)"
      ],
      "execution_count": 28,
      "outputs": [
        {
          "output_type": "stream",
          "text": [
            "\n",
            "=== k = 3 ===\n",
            "\n",
            "Context:  East Asia was one of the cradles of world civilization, with China, an ancient East Asian civilization being one of the earliest cradles of civilization in human history.\n",
            "Continuation:  s . in the early 1990s , the airline was also known as the national highway system . the highway was built in a large number of around the <unk> . the \n",
            "\n",
            "Context:  Though not commonly used today, half-dollar coins have a long history of heavy use alongside other denominations of coinage, but have faded out of general circulation for many reasons.\n",
            "Continuation:  s. cruzi , and <unk> . <unk> , these is <unk> and <unk> , and <unk> <unk> , <unk> , and the\n",
            "\n",
            "Context:  Parliament approved the agreement for further scrutiny, but rejected passing it into law before 31 October deadline, and forced the government to ask for a third Brexit delay.\n",
            "Continuation:  <unk> . in the late 1960s , the airlines were around the battle . the 766th was held by the▁british army , and also <unk\n",
            "\n",
            "Context:  Ireland ranks among the top ten wealthiest countries in the world in terms of GDP per capita, and as the tenth most prosperous country in the world according to The Legatum Prosperity Index 2015.\n",
            "Continuation:  <unk> ( <unk> <unk> ) . these are also used to <unk> <unk> , which is known as the <unk> , <unk> \n",
            "\n",
            "Context:  His musical talent was obvious at an early age, and he was harshly and intensively taught by his father Johann van Beethoven, who thought this would enable him to become a child prodigy like Mozart.\n",
            "Continuation:  <unk> . they are not <unk> , and the <unk> of the <unk> <unk> \" ( \" very \" ) . the episode was released on the chart ,\n",
            "\n",
            "\n",
            "=== k = 5 ===\n",
            "\n",
            "Context:  East Asia was one of the cradles of world civilization, with China, an ancient East Asian civilization being one of the earliest cradles of civilization in human history.\n",
            "Continuation:  <unk> and in <unk> , <unk> and <unk> , which was built in the city 's main campuses . in addition , they have been\n",
            "\n",
            "Context:  Though not commonly used today, half-dollar coins have a long history of heavy use alongside other denominations of coinage, but have faded out of general circulation for many reasons.\n",
            "Continuation:  <unk> . the also includes the <unk> and <unk> <unk> <unk> , which is an important species of the fungus ( <unk> ) ,\n",
            "\n",
            "Context:  Parliament approved the agreement for further scrutiny, but rejected passing it into law before 31 October deadline, and forced the government to ask for a third Brexit delay.\n",
            "Continuation:  s . the <unk> <unk> , a <unk> <unk> <unk> ( the mobile▁column ) . in the late 1980s ,\n",
            "\n",
            "Context:  Ireland ranks among the top ten wealthiest countries in the world in terms of GDP per capita, and as the tenth most prosperous country in the world according to The Legatum Prosperity Index 2015.\n",
            "Continuation:  <unk> ( <unk> ) , <unk> , <unk> @-@ <unk> and <unk> <unk> , which was also found in another and <\n",
            "\n",
            "Context:  His musical talent was obvious at an early age, and he was harshly and intensively taught by his father Johann van Beethoven, who thought this would enable him to become a child prodigy like Mozart.\n",
            "Continuation:  the <unk> \" . he was noted for the <unk> of the <unk> <unk> <unk> . their <unk> of <unk> , the <unk\n",
            "\n",
            "\n",
            "=== k = 8 ===\n",
            "\n",
            "Context:  East Asia was one of the cradles of world civilization, with China, an ancient East Asian civilization being one of the earliest cradles of civilization in human history.\n",
            "Continuation:  s . their first @-@ class battlecruisers was a largest and cultural government . they were not between a two @-@ months .▁this was a <unk> in\n",
            "\n",
            "Context:  Though not commonly used today, half-dollar coins have a long history of heavy use alongside other denominations of coinage, but have faded out of general circulation for many reasons.\n",
            "Continuation:  <unk> . the <unk> of allosaurus , which has been known as the <unk> in 1978 . it is the most common of <unk> ( the same time \n",
            "\n",
            "Context:  Parliament approved the agreement for further scrutiny, but rejected passing it into law before 31 October deadline, and forced the government to ask for a third Brexit delay.\n",
            "Continuation:  the <unk> . the ships were not able to be able to gain $ 3 @,@ 000 such for his first season .<eos>\n",
            "\n",
            "Context:  Ireland ranks among the top ten wealthiest countries in the world in terms of GDP per capita, and as the tenth most prosperous country in the world according to The Legatum Prosperity Index 2015.\n",
            "Continuation:  s. route 2 , while it is also a larger , <unk> in the city . it is not because of all <unk> are inconsistent .<eos>\n",
            "\n",
            "Context:  His musical talent was obvious at an early age, and he was harshly and intensively taught by his father Johann van Beethoven, who thought this would enable him to become a child prodigy like Mozart.\n",
            "Continuation:  <unk> , which was a <unk> and <unk> . \" in the episode of a week , he was not released in a <unk> of the games for the nintendo▁ds . in\n",
            "\n",
            "\n",
            "=== k = 10 ===\n",
            "\n",
            "Context:  East Asia was one of the cradles of world civilization, with China, an ancient East Asian civilization being one of the earliest cradles of civilization in human history.\n",
            "Continuation:  <unk> in the early 1980s , and the city were given a $ 3 @,@ 000 metric @-@ footed with the <unk> and the <unk\n",
            "\n",
            "Context:  Though not commonly used today, half-dollar coins have a long history of heavy use alongside other denominations of coinage, but have faded out of general circulation for many reasons.\n",
            "Continuation:  <unk> , or <unk> , and the <unk> of the <unk> , where they will be <unk> by the <unk> or acute in the nucleus .\n",
            "\n",
            "Context:  Parliament approved the agreement for further scrutiny, but rejected passing it into law before 31 October deadline, and forced the government to ask for a third Brexit delay.\n",
            "Continuation:  the▁british forces , the▁german ships and a <unk> . the ship is to have a strong @-@ lane to the state highway , and had been used to the\n",
            "\n",
            "Context:  Ireland ranks among the top ten wealthiest countries in the world in terms of GDP per capita, and as the tenth most prosperous country in the world according to The Legatum Prosperity Index 2015.\n",
            "Continuation:  s. in the <unk> . it was built at the site of the storm . once in a large amount of its first day , the hurricane had been used for a <unk> in the town to be the\n",
            "\n",
            "Context:  His musical talent was obvious at an early age, and he was harshly and intensively taught by his father Johann van Beethoven, who thought this would enable him to become a child prodigy like Mozart.\n",
            "Continuation:  the \" the <unk> \" . the episode was written by▁robert <unk> <unk> <unk> <unk> . it is noted that the <unk> of the <unk\n",
            "\n",
            "\n",
            "=== k = 14 ===\n",
            "\n",
            "Context:  East Asia was one of the cradles of world civilization, with China, an ancient East Asian civilization being one of the earliest cradles of civilization in human history.\n",
            "Continuation:  foundation . the first half @-@ <unk> of the city of▁haifa was also known as a <unk> <unk> of b. alder and a\n",
            "\n",
            "Context:  Though not commonly used today, half-dollar coins have a long history of heavy use alongside other denominations of coinage, but have faded out of general circulation for many reasons.\n",
            "Continuation:  . m. § in the <unk> of <unk> . <unk> of aml of the mushroom 's population is used as this to form of their own <unk> and\n",
            "\n",
            "Context:  Parliament approved the agreement for further scrutiny, but rejected passing it into law before 31 October deadline, and forced the government to ask for a third Brexit delay.\n",
            "Continuation:  <unk> . they were <unk> to the south and east and the north , the <unk> of this type of this time . at the same time\n",
            "\n",
            "Context:  Ireland ranks among the top ten wealthiest countries in the world in terms of GDP per capita, and as the tenth most prosperous country in the world according to The Legatum Prosperity Index 2015.\n",
            "Continuation:  cruz . the <unk> , the <unk> , then is to be a tropical cyclone at the junction . it was built to the area with the company in 1998 , and the first part of the\n",
            "\n",
            "Context:  His musical talent was obvious at an early age, and he was harshly and intensively taught by his father Johann van Beethoven, who thought this would enable him to become a child prodigy like Mozart.\n",
            "Continuation:  \" , but he doesn because he is unknown of this , without . \" there were an <unk> , a <unk> for his family , and a second <unk> . the film\n",
            "\n",
            "\n",
            "=== k = 20 ===\n",
            "\n",
            "Context:  East Asia was one of the cradles of world civilization, with China, an ancient East Asian civilization being one of the earliest cradles of civilization in human history.\n",
            "Continuation:  the <unk> international airport for the first half of the years , and became a tropical depression in▁september 1915 , a few months later . the ship was completed and replac\n",
            "\n",
            "Context:  Though not commonly used today, half-dollar coins have a long history of heavy use alongside other denominations of coinage, but have faded out of general circulation for many reasons.\n",
            "Continuation:  <unk> . he can use the possibilities that is the only person of the same name in the area , but it was not only in the process of the <unk> – <unk> and a\n",
            "\n",
            "Context:  Parliament approved the agreement for further scrutiny, but rejected passing it into law before 31 October deadline, and forced the government to ask for a third Brexit delay.\n",
            "Continuation:  f. club 's <unk> for the▁german war . on the other ship 's fire , the battalion would be a greatly low pressured to attack around the east end\n",
            "\n",
            "Context:  Ireland ranks among the top ten wealthiest countries in the world in terms of GDP per capita, and as the tenth most prosperous country in the world according to The Legatum Prosperity Index 2015.\n",
            "Continuation:  s. enough to warrant the world to make the project for the first time by the <unk> of the▁jin .▁this is unaware . if i is not a very difficult for the whole \" .<eos>\n",
            "\n",
            "Context:  His musical talent was obvious at an early age, and he was harshly and intensively taught by his father Johann van Beethoven, who thought this would enable him to become a child prodigy like Mozart.\n",
            "Continuation:  , it was not only <unk> ( either .▁this is <unk> of such as <unk> <unk> and other <unk> 's <unk> ... it\n",
            "\n"
          ],
          "name": "stdout"
        }
      ]
    },
    {
      "cell_type": "markdown",
      "metadata": {
        "id": "c65mh973FMo0",
        "colab_type": "text"
      },
      "source": [
        "## Sampling with Temperature"
      ]
    },
    {
      "cell_type": "code",
      "metadata": {
        "id": "0Uw1FoHLFNlP",
        "colab_type": "code",
        "colab": {}
      },
      "source": [
        "def temperature_sampling(logits, t=1.0):\n",
        "    return top_k_top_p_sampling(logits * (1 / t), top_p=1.0)"
      ],
      "execution_count": 0,
      "outputs": []
    },
    {
      "cell_type": "code",
      "metadata": {
        "id": "bKz3nJoSFOKQ",
        "colab_type": "code",
        "outputId": "f832eac0-0778-4c85-9111-54df4d32859d",
        "colab": {
          "base_uri": "https://localhost:8080/",
          "height": 1000
        }
      },
      "source": [
        "for t in [0.5, 0.7, 0.8, 0.95]:\n",
        "    print(f'\\n=== t = {t} ===\\n')\n",
        "    method = lambda x: temperature_sampling(x, t=t)\n",
        "    continue_strs(inps, method)"
      ],
      "execution_count": 30,
      "outputs": [
        {
          "output_type": "stream",
          "text": [
            "\n",
            "=== t = 0.5 ===\n",
            "\n",
            "Context:  East Asia was one of the cradles of world civilization, with China, an ancient East Asian civilization being one of the earliest cradles of civilization in human history.\n",
            "Continuation:  <unk> and <unk> . these are a <unk> or <unk> . their body is a <unk> , the <unk> , <\n",
            "\n",
            "Context:  Though not commonly used today, half-dollar coins have a long history of heavy use alongside other denominations of coinage, but have faded out of general circulation for many reasons.\n",
            "Continuation:  <unk> , <unk> <unk> ( <unk> ) , which is also known as the <unk> , <unk> <unk> , <unk>\n",
            "\n",
            "Context:  Parliament approved the agreement for further scrutiny, but rejected passing it into law before 31 October deadline, and forced the government to ask for a third Brexit delay.\n",
            "Continuation:  <unk> <unk> , and the city of the new▁york▁yankees . the university of the university of the national museum of the <unk> of the archaeolog\n",
            "\n",
            "Context:  Ireland ranks among the top ten wealthiest countries in the world in terms of GDP per capita, and as the tenth most prosperous country in the world according to The Legatum Prosperity Index 2015.\n",
            "Continuation:  <unk> , <unk> , and <unk> , and <unk> and <unk> . the first <unk> of the <unk> , a <unk> ( <\n",
            "\n",
            "Context:  His musical talent was obvious at an early age, and he was harshly and intensively taught by his father Johann van Beethoven, who thought this would enable him to become a child prodigy like Mozart.\n",
            "Continuation:  <unk> in the <unk> . their <unk> <unk> <unk> , <unk> , and is <unk> . in 1987 , they also has been\n",
            "\n",
            "\n",
            "=== t = 0.7 ===\n",
            "\n",
            "Context:  East Asia was one of the cradles of world civilization, with China, an ancient East Asian civilization being one of the earliest cradles of civilization in human history.\n",
            "Continuation:  <unk> , and <unk> , and was often known as a <unk> and <unk> that is now known as the▁department of texts . the\n",
            "\n",
            "Context:  Though not commonly used today, half-dollar coins have a long history of heavy use alongside other denominations of coinage, but have faded out of general circulation for many reasons.\n",
            "Continuation:  <unk> , <unk> ; however , the quality of the star is <unk> , and birds are also known as the modern @-@ scale <unk> without the conversi\n",
            "\n",
            "Context:  Parliament approved the agreement for further scrutiny, but rejected passing it into law before 31 October deadline, and forced the government to ask for a third Brexit delay.\n",
            "Continuation:  the▁baltimore . the construction of a largely assaulted north▁vietnamese inscriptions were constructed in the▁germans . the project was a large sum of the ships from the tactical defence\n",
            "\n",
            "Context:  Ireland ranks among the top ten wealthiest countries in the world in terms of GDP per capita, and as the tenth most prosperous country in the world according to The Legatum Prosperity Index 2015.\n",
            "Continuation:  s ( <unk> <unk> <unk> ) , <unk> , <unk> and a <unk> <unk> of the cosmos of▁st.▁louiss . the stem is\n",
            "\n",
            "Context:  His musical talent was obvious at an early age, and he was harshly and intensively taught by his father Johann van Beethoven, who thought this would enable him to become a child prodigy like Mozart.\n",
            "Continuation:  <unk> for a person 's headquarters . as they are out of the edge in the country . she is a \" , but \" many of these mystery is noted and decided to the <\n",
            "\n",
            "\n",
            "=== t = 0.8 ===\n",
            "\n",
            "Context:  East Asia was one of the cradles of world civilization, with China, an ancient East Asian civilization being one of the earliest cradles of civilization in human history.\n",
            "Continuation:  <unk> and <unk> . the faa has been translated to the▁americans of the 1956 on june 1919 . retrieved 10 april 1944 .▁this was unclear\n",
            "\n",
            "Context:  Though not commonly used today, half-dollar coins have a long history of heavy use alongside other denominations of coinage, but have faded out of general circulation for many reasons.\n",
            "Continuation:  e. <unk> , <unk> <unk> and <unk> <unk> . these are <unk> , and the threshold investigation . the <unk> of the\n",
            "\n",
            "Context:  Parliament approved the agreement for further scrutiny, but rejected passing it into law before 31 October deadline, and forced the government to ask for a third Brexit delay.\n",
            "Continuation:  ▁thomas , who was the only one of the the two @-@ millimeter ( 7 @.@ 3 ft ) and another <unk> , about its <unk\n",
            "\n",
            "Context:  Ireland ranks among the top ten wealthiest countries in the world in terms of GDP per capita, and as the tenth most prosperous country in the world according to The Legatum Prosperity Index 2015.\n",
            "Continuation:  <unk> areas . these workers were <unk> by the other light horses . as a result , the 19th battalion was 4ed in 1976 .<eos>\n",
            "\n",
            "Context:  His musical talent was obvious at an early age, and he was harshly and intensively taught by his father Johann van Beethoven, who thought this would enable him to become a child prodigy like Mozart.\n",
            "Continuation:  some of their favorite military , but it is usually in the capital . like that the song is a less often usually what , that the \" is now \" and \"▁addicted to▁spud \" , \" <unk\n",
            "\n",
            "\n",
            "=== t = 0.95 ===\n",
            "\n",
            "Context:  East Asia was one of the cradles of world civilization, with China, an ancient East Asian civilization being one of the earliest cradles of civilization in human history.\n",
            "Continuation:  called in a inscriptions as the benefits as an example of▁british army .▁this was <unk> by▁lechuck . <unk> and the other <unk><eos>\n",
            "\n",
            "Context:  Though not commonly used today, half-dollar coins have a long history of heavy use alongside other denominations of coinage, but have faded out of general circulation for many reasons.\n",
            "Continuation:  . <unk> is similar , its distinct , europium , side of the central tip of age 's high @-@ turning film in the▁ery . a total of the chronic surface of plum cakes may volt\n",
            "\n",
            "Context:  Parliament approved the agreement for further scrutiny, but rejected passing it into law before 31 October deadline, and forced the government to ask for a third Brexit delay.\n",
            "Continuation:  ▁james <unk> , the world <unk> and▁alex 's survey . three ships refused to determine a new city instead in 1966 .<eos>\n",
            "\n",
            "Context:  Ireland ranks among the top ten wealthiest countries in the world in terms of GDP per capita, and as the tenth most prosperous country in the world according to The Legatum Prosperity Index 2015.\n",
            "Continuation:  ▁iv to fly two to @-@ engines , and 3 @,@ 250 feet ; <unk> and 135 mm , <unk> at the cream side and arizona .<eos>\n",
            "\n",
            "Context:  His musical talent was obvious at an early age, and he was harshly and intensively taught by his father Johann van Beethoven, who thought this would enable him to become a child prodigy like Mozart.\n",
            "Continuation:  it present . \" a scene was reminiscent , which▁bart are out as a \" like you know and lover \" , the extent that it was \" for the most definitely \" beat of the▁vulcans 's life . \"\n",
            "\n"
          ],
          "name": "stdout"
        }
      ]
    },
    {
      "cell_type": "markdown",
      "metadata": {
        "id": "IrDdKwpxd0Jz",
        "colab_type": "text"
      },
      "source": [
        "## Nucleus Sampling"
      ]
    },
    {
      "cell_type": "code",
      "metadata": {
        "id": "Te3k87KGFXMP",
        "colab_type": "code",
        "colab": {
          "base_uri": "https://localhost:8080/",
          "height": 1000
        },
        "outputId": "a4c22ab8-b4cf-4a3a-e451-3f3ff851f85c"
      },
      "source": [
        "for p in [0.3, 0.7, 0.9, 0.96]:\n",
        "    print(f'\\n=== p = {p} ===\\n')\n",
        "    method = lambda x: top_k_top_p_sampling(x, top_p=p)\n",
        "    continue_strs(inps, method)"
      ],
      "execution_count": 31,
      "outputs": [
        {
          "output_type": "stream",
          "text": [
            "\n",
            "=== p = 0.3 ===\n",
            "\n",
            "Context:  East Asia was one of the cradles of world civilization, with China, an ancient East Asian civilization being one of the earliest cradles of civilization in human history.\n",
            "Continuation:  the church of▁scientology , which was not known as the <unk> . the city 's officials were designed by the new▁york state , and a new state highway system .<eos>\n",
            "\n",
            "Context:  Though not commonly used today, half-dollar coins have a long history of heavy use alongside other denominations of coinage, but have faded out of general circulation for many reasons.\n",
            "Continuation:  s. <unk> , and <unk> , <unk> , and <unk> , and <unk> , and the <unk> <unk> <unk> , <\n",
            "\n",
            "Context:  Parliament approved the agreement for further scrutiny, but rejected passing it into law before 31 October deadline, and forced the government to ask for a third Brexit delay.\n",
            "Continuation:  they of the two days . the ships were to <unk> to the north . the storm was constructed by the storm .<eos>\n",
            "\n",
            "Context:  Ireland ranks among the top ten wealthiest countries in the world in terms of GDP per capita, and as the tenth most prosperous country in the world according to The Legatum Prosperity Index 2015.\n",
            "Continuation:  <unk> . the <unk> <unk> <unk> <unk> ( <unk> ) is a high @-@ old wall , and then 's not have been used to\n",
            "\n",
            "Context:  His musical talent was obvious at an early age, and he was harshly and intensively taught by his father Johann van Beethoven, who thought this would enable him to become a child prodigy like Mozart.\n",
            "Continuation:  \" , \" <unk> \" , \" if \" ( \" <unk> \" ) , \" a <unk> \" , and then had a greater <unk> \" .<eos>\n",
            "\n",
            "\n",
            "=== p = 0.7 ===\n",
            "\n",
            "Context:  East Asia was one of the cradles of world civilization, with China, an ancient East Asian civilization being one of the earliest cradles of civilization in human history.\n",
            "Continuation:  s.s. navy , but the county did not actually passing the▁chinese to the▁british infantry and the▁jin were able to continue to▁german attacks and downtown▁africa\n",
            "\n",
            "Context:  Though not commonly used today, half-dollar coins have a long history of heavy use alongside other denominations of coinage, but have faded out of general circulation for many reasons.\n",
            "Continuation:  <unk> , a thin tooth , for example , <unk> , cadmium ( <unk> ) . the areas and powers , and also is a <unk> , who is\n",
            "\n",
            "Context:  Parliament approved the agreement for further scrutiny, but rejected passing it into law before 31 October deadline, and forced the government to ask for a third Brexit delay.\n",
            "Continuation:  s. <unk> to visits . the game took place on its site in <unk> ; the population is a multi @-@ year and small @-@ second @\n",
            "\n",
            "Context:  Ireland ranks among the top ten wealthiest countries in the world in terms of GDP per capita, and as the tenth most prosperous country in the world according to The Legatum Prosperity Index 2015.\n",
            "Continuation:  b. the system . it has been slowly connected from its mouth . <unk> range of the river and the outer areas of <unk> overall <unk>s , along with the same time\n",
            "\n",
            "Context:  His musical talent was obvious at an early age, and he was harshly and intensively taught by his father Johann van Beethoven, who thought this would enable him to become a child prodigy like Mozart.\n",
            "Continuation:  i. <unk> , whose , who 's vision of this filiation is all that he would have difficulty . the poem 's \" all @-@ out \" , \" one sweet night is also play\n",
            "\n",
            "\n",
            "=== p = 0.9 ===\n",
            "\n",
            "Context:  East Asia was one of the cradles of world civilization, with China, an ancient East Asian civilization being one of the earliest cradles of civilization in human history.\n",
            "Continuation:  , . although both close construction , it is to accommodate the road that the area had four populations with 65 square miles ( 3 @.@ 6 km ) and 12th @-@ years\n",
            "\n",
            "Context:  Though not commonly used today, half-dollar coins have a long history of heavy use alongside other denominations of coinage, but have faded out of general circulation for many reasons.\n",
            "Continuation:  <unk> and were common <unk> , and its <unk> are lowerer than in highest competitors , even <unk> <unk> who had once except without pre @-\n",
            "\n",
            "Context:  Parliament approved the agreement for further scrutiny, but rejected passing it into law before 31 October deadline, and forced the government to ask for a third Brexit delay.\n",
            "Continuation:  ▁james bonds . <unk> with about the years of the landing invasion , an estimated increases drop from another depression . in the▁german , \" as the fourth\n",
            "\n",
            "Context:  Ireland ranks among the top ten wealthiest countries in the world in terms of GDP per capita, and as the tenth most prosperous country in the world according to The Legatum Prosperity Index 2015.\n",
            "Continuation:  <unk> : the <unk> <unk> , <unk> in modern ; in the hypha 's 100 @-@ layer @-@ round for national the <unk> industry structure of the\n",
            "\n",
            "Context:  His musical talent was obvious at an early age, and he was harshly and intensively taught by his father Johann van Beethoven, who thought this would enable him to become a child prodigy like Mozart.\n",
            "Continuation:  don 't help . however , the episode 's fighting from the wolf . he made a time at a state of and law and had begun to be 's psychological context of the life . the production\n",
            "\n",
            "\n",
            "=== p = 0.96 ===\n",
            "\n",
            "Context:  East Asia was one of the cradles of world civilization, with China, an ancient East Asian civilization being one of the earliest cradles of civilization in human history.\n",
            "Continuation:  during the wars . an <unk> mayor which against the▁italy also rejected an example , the raaf series of anti @-@▁semitied horses were seen by\n",
            "\n",
            "Context:  Though not commonly used today, half-dollar coins have a long history of heavy use alongside other denominations of coinage, but have faded out of general circulation for many reasons.\n",
            "Continuation:  <unk> . the order of the male is the <unk> use on the typewriter to tell the enemy for the risk of all public usage , along with him in contact with justice . the dark blue mole\n",
            "\n",
            "Context:  Parliament approved the agreement for further scrutiny, but rejected passing it into law before 31 October deadline, and forced the government to ask for a third Brexit delay.\n",
            "Continuation:  cleared from over the <unk> and surface ty . the forward passes on the▁ortona and crops and defeated a troop battalion .▁together from the two day\n",
            "\n",
            "Context:  Ireland ranks among the top ten wealthiest countries in the world in terms of GDP per capita, and as the tenth most prosperous country in the world according to The Legatum Prosperity Index 2015.\n",
            "Continuation:  <unk> itself with <unk> arenas in urban area from until the early 20th century . a painting \" before the introduction of the genus was a tall and childhood . a report from\n",
            "\n",
            "Context:  His musical talent was obvious at an early age, and he was harshly and intensively taught by his father Johann van Beethoven, who thought this would enable him to become a child prodigy like Mozart.\n",
            "Continuation:  ▁s. 3 means ( 10 @.@ 9 mi ) on 10 , 11 kilometres ( 9 @,@ 100 km ) with land . it was built in this period by the▁australians swept on the following\n",
            "\n"
          ],
          "name": "stdout"
        }
      ]
    },
    {
      "cell_type": "code",
      "metadata": {
        "id": "zyDZNlpJdyJ7",
        "colab_type": "code",
        "colab": {}
      },
      "source": [
        ""
      ],
      "execution_count": 0,
      "outputs": []
    }
  ]
}